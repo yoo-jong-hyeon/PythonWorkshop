{
 "cells": [
  {
   "cell_type": "code",
   "execution_count": 33,
   "id": "7a3c0249",
   "metadata": {},
   "outputs": [
    {
     "name": "stdout",
     "output_type": "stream",
     "text": [
      "test python\n"
     ]
    }
   ],
   "source": [
    "testStr = 'test' + \" python\"\n",
    "print(testStr)"
   ]
  },
  {
   "cell_type": "code",
   "execution_count": 34,
   "id": "f83a57b9",
   "metadata": {},
   "outputs": [
    {
     "name": "stdout",
     "output_type": "stream",
     "text": [
      "pointer\n",
      "p\n",
      "n\n"
     ]
    }
   ],
   "source": [
    "# [0] [1] [2] [3] [4] [5] [6]\n",
    "#  p   o   i   n   t   e   r\n",
    "str1 = \"pointer\"\n",
    "print(str1)\n",
    "print(str1[0])\n",
    "print(str1[3])"
   ]
  },
  {
   "cell_type": "code",
   "execution_count": 35,
   "id": "1e0fcd31",
   "metadata": {},
   "outputs": [
    {
     "name": "stdout",
     "output_type": "stream",
     "text": [
      "p\n"
     ]
    }
   ],
   "source": [
    "# 0 ~ 1미만  // 배열의 인덱스에는 소수점이 없기에 [0]번째\n",
    "print(str1[0:1])"
   ]
  },
  {
   "cell_type": "code",
   "execution_count": 36,
   "id": "39678428",
   "metadata": {},
   "outputs": [
    {
     "name": "stdout",
     "output_type": "stream",
     "text": [
      "oin\n"
     ]
    }
   ],
   "source": [
    "# 1 ~ 4 미만\n",
    "print(str1[1:4])"
   ]
  },
  {
   "cell_type": "code",
   "execution_count": 37,
   "id": "47cbf496",
   "metadata": {},
   "outputs": [
    {
     "name": "stdout",
     "output_type": "stream",
     "text": [
      "po\n"
     ]
    }
   ],
   "source": [
    "# :2  앞의 숫자 자리를 비워 두면 0으로 인식함 [0] [1] 번째 0~2미만\n",
    "print(str1[:2])"
   ]
  },
  {
   "cell_type": "code",
   "execution_count": 38,
   "id": "18736e74",
   "metadata": {},
   "outputs": [
    {
     "name": "stdout",
     "output_type": "stream",
     "text": [
      "er\n"
     ]
    }
   ],
   "source": [
    "# 뒤에서 부터 \n",
    "print(str1[-2:])"
   ]
  },
  {
   "cell_type": "code",
   "execution_count": 39,
   "id": "982d30b1",
   "metadata": {},
   "outputs": [
    {
     "name": "stdout",
     "output_type": "stream",
     "text": [
      "pointer\n"
     ]
    }
   ],
   "source": [
    "# 비어있으면 전부 출력\n",
    "print(str1[:])"
   ]
  },
  {
   "cell_type": "code",
   "execution_count": 40,
   "id": "0fd373a4",
   "metadata": {},
   "outputs": [
    {
     "name": "stdout",
     "output_type": "stream",
     "text": [
      "pitr\n",
      "one\n"
     ]
    }
   ],
   "source": [
    "# 0 부터 2번째 띄어있는 숫자\n",
    "print(str1[::2])\n",
    "# 1 부터 2번째 띄어있는 숫자\n",
    "print(str1[1::2])"
   ]
  },
  {
   "cell_type": "code",
   "execution_count": 41,
   "id": "5f9aec9f",
   "metadata": {},
   "outputs": [
    {
     "name": "stdout",
     "output_type": "stream",
     "text": [
      "3.14\n",
      "77\n",
      "33.0\n",
      "<class 'str'>\n",
      "<class 'int'>\n",
      "<class 'float'>\n"
     ]
    }
   ],
   "source": [
    "makeStr = str(3.14)\n",
    "intStr = int(\"77\")\n",
    "floatStr = float(\"33\")\n",
    "\n",
    "print(makeStr)\n",
    "# int (정수형)\n",
    "print(intStr)\n",
    "# float (실수형) 소수점\n",
    "print(floatStr)\n",
    "\n",
    "print(type(makeStr))\n",
    "print(type(intStr))\n",
    "print(type(floatStr))"
   ]
  },
  {
   "cell_type": "code",
   "execution_count": 42,
   "id": "50f57458",
   "metadata": {},
   "outputs": [
    {
     "name": "stdout",
     "output_type": "stream",
     "text": [
      "['red', 'green', 'blue']\n",
      "<class 'list'>\n"
     ]
    }
   ],
   "source": [
    "#Arrary 계열의 리스트\n",
    "colors = ['red', 'green', 'blue']\n",
    "          \n",
    "print(colors)\n",
    "print(type(colors))"
   ]
  },
  {
   "cell_type": "code",
   "execution_count": 43,
   "id": "2f0cff5f",
   "metadata": {},
   "outputs": [
    {
     "name": "stdout",
     "output_type": "stream",
     "text": [
      "['red', 'green', 'blue', 'gold']\n"
     ]
    }
   ],
   "source": [
    "# append를 사용하여 내용을 추가할 수 있다.\n",
    "colors.append('gold')\n",
    "print(colors)"
   ]
  },
  {
   "cell_type": "code",
   "execution_count": 44,
   "id": "63db1ab3",
   "metadata": {},
   "outputs": [
    {
     "name": "stdout",
     "output_type": "stream",
     "text": [
      "['red', 'black', 'green', 'blue', 'gold']\n"
     ]
    }
   ],
   "source": [
    "# insert 는 (1, black) 1번째 자리에 black를 넣어라 (red자리는 0번째)\n",
    "colors.insert(1, 'black')\n",
    "print(colors)"
   ]
  },
  {
   "cell_type": "code",
   "execution_count": 45,
   "id": "130d15f1",
   "metadata": {},
   "outputs": [
    {
     "name": "stdout",
     "output_type": "stream",
     "text": [
      "['red', 'black', 'green', 'blue', 'gold', 'white', 'gray']\n"
     ]
    }
   ],
   "source": [
    "#리스트와 리스트를 병합할 경우에 주로 사용함\n",
    "extension_colors = ['white', 'gray']\n",
    "colors.extend(extension_colors)\n",
    "print(colors)"
   ]
  },
  {
   "cell_type": "code",
   "execution_count": 46,
   "id": "fd83eceb",
   "metadata": {},
   "outputs": [
    {
     "name": "stdout",
     "output_type": "stream",
     "text": [
      "['red', 'black', 'green', 'blue', 'gold', 'white', 'gray', 'purple', 'red']\n"
     ]
    }
   ],
   "source": [
    "# 아래 또한 리스트에 추가하는 방법\n",
    "colors += ['purple']\n",
    "colors += ['red']\n",
    "\n",
    "print(colors)"
   ]
  },
  {
   "cell_type": "code",
   "execution_count": 47,
   "id": "5bf7e8c0",
   "metadata": {},
   "outputs": [
    {
     "name": "stdout",
     "output_type": "stream",
     "text": [
      "7\n"
     ]
    }
   ],
   "source": [
    "#몇 번째 배열에 들어있는지 보여줌 (위치 찾기) 배열은 0부터 시작\n",
    "print(colors.index('purple'))"
   ]
  },
  {
   "cell_type": "code",
   "execution_count": 48,
   "id": "0d435e13",
   "metadata": {},
   "outputs": [
    {
     "name": "stdout",
     "output_type": "stream",
     "text": [
      "0\n"
     ]
    }
   ],
   "source": [
    "print(colors.index('red'))"
   ]
  },
  {
   "cell_type": "code",
   "execution_count": 49,
   "id": "b7f522e2",
   "metadata": {},
   "outputs": [
    {
     "name": "stdout",
     "output_type": "stream",
     "text": [
      "8\n"
     ]
    }
   ],
   "source": [
    "# red만 볼때 1번째 배열의 위치 찾기\n",
    "print(colors.index('red', 1))"
   ]
  },
  {
   "cell_type": "code",
   "execution_count": 50,
   "id": "9d932435",
   "metadata": {},
   "outputs": [
    {
     "ename": "ValueError",
     "evalue": "'gray' is not in list",
     "output_type": "error",
     "traceback": [
      "\u001b[1;31m---------------------------------------------------------------------------\u001b[0m",
      "\u001b[1;31mValueError\u001b[0m                                Traceback (most recent call last)",
      "\u001b[1;32m<ipython-input-50-9fa9dd4e6b02>\u001b[0m in \u001b[0;36m<module>\u001b[1;34m\u001b[0m\n\u001b[0;32m      1\u001b[0m \u001b[1;31m# 잘못된 정보를 입력하면 오류가 나옴\u001b[0m\u001b[1;33m\u001b[0m\u001b[1;33m\u001b[0m\u001b[1;33m\u001b[0m\u001b[0m\n\u001b[1;32m----> 2\u001b[1;33m \u001b[0mprint\u001b[0m\u001b[1;33m(\u001b[0m\u001b[0mcolors\u001b[0m\u001b[1;33m.\u001b[0m\u001b[0mindex\u001b[0m\u001b[1;33m(\u001b[0m\u001b[1;34m'gray'\u001b[0m\u001b[1;33m,\u001b[0m \u001b[1;36m7\u001b[0m\u001b[1;33m)\u001b[0m\u001b[1;33m)\u001b[0m\u001b[1;33m\u001b[0m\u001b[1;33m\u001b[0m\u001b[0m\n\u001b[0m",
      "\u001b[1;31mValueError\u001b[0m: 'gray' is not in list"
     ]
    }
   ],
   "source": [
    "# 잘못된 정보를 입력하면 오류가 나옴\n",
    "print(colors.index('gray', 7))"
   ]
  },
  {
   "cell_type": "code",
   "execution_count": 51,
   "id": "2f6bce69",
   "metadata": {},
   "outputs": [
    {
     "name": "stdout",
     "output_type": "stream",
     "text": [
      "3\n"
     ]
    }
   ],
   "source": [
    "# blue를 2 ~ 5미만에서 위치찾기\n",
    "print(colors.index('blue', 2, 5))"
   ]
  },
  {
   "cell_type": "code",
   "execution_count": 52,
   "id": "f4ad82d5",
   "metadata": {},
   "outputs": [
    {
     "name": "stdout",
     "output_type": "stream",
     "text": [
      "2\n"
     ]
    }
   ],
   "source": [
    "# count 개수(수량) 찾기\n",
    "print(colors.count('red'))"
   ]
  },
  {
   "cell_type": "code",
   "execution_count": 53,
   "id": "ba70b9ea",
   "metadata": {},
   "outputs": [
    {
     "name": "stdout",
     "output_type": "stream",
     "text": [
      "red\n"
     ]
    }
   ],
   "source": [
    "print(colors.pop())"
   ]
  },
  {
   "cell_type": "code",
   "execution_count": 54,
   "id": "2587c532",
   "metadata": {},
   "outputs": [
    {
     "name": "stdout",
     "output_type": "stream",
     "text": [
      "purple\n",
      "gray\n",
      "white\n"
     ]
    }
   ],
   "source": [
    "# pop 뒤에서부터 불러오기\n",
    "print(colors.pop())\n",
    "print(colors.pop())\n",
    "print(colors.pop())"
   ]
  },
  {
   "cell_type": "code",
   "execution_count": 55,
   "id": "68172d01",
   "metadata": {},
   "outputs": [
    {
     "name": "stdout",
     "output_type": "stream",
     "text": [
      "['red', 'black', 'green', 'blue', 'gold']\n"
     ]
    }
   ],
   "source": [
    "print(colors)"
   ]
  },
  {
   "cell_type": "code",
   "execution_count": 56,
   "id": "06befb42",
   "metadata": {},
   "outputs": [
    {
     "name": "stdout",
     "output_type": "stream",
     "text": [
      "['red', 'black', 'blue', 'gold']\n"
     ]
    }
   ],
   "source": [
    "#remove  삭제하기\n",
    "colors.remove('green')\n",
    "print(colors)"
   ]
  },
  {
   "cell_type": "code",
   "execution_count": 57,
   "id": "0bca667e",
   "metadata": {},
   "outputs": [
    {
     "name": "stdout",
     "output_type": "stream",
     "text": [
      "sort:  ['black', 'blue', 'gold', 'red']\n"
     ]
    }
   ],
   "source": [
    "# sort 알파벳 순으로 정렬\n",
    "colors.sort()\n",
    "print(\"sort: \", colors)"
   ]
  },
  {
   "cell_type": "code",
   "execution_count": 60,
   "id": "6c4e52d0",
   "metadata": {},
   "outputs": [
    {
     "name": "stdout",
     "output_type": "stream",
     "text": [
      "['red', 'gold', 'blue', 'black']\n"
     ]
    }
   ],
   "source": [
    "# reverse() 는 거꾸로 정렬이 아니며 단순히 값을 뒤집는 역할만 한다.\n",
    "# 앞에 sort()로 정렬해놓은 상태에서 reverse()를 실행한거라 역순 처럼 보이지만 아님\n",
    "colors.reverse()\n",
    "print(colors)"
   ]
  },
  {
   "cell_type": "code",
   "execution_count": 61,
   "id": "31adb3cc",
   "metadata": {},
   "outputs": [
    {
     "name": "stdout",
     "output_type": "stream",
     "text": [
      "{1, 2, 3}\n",
      "{3, 4, 5}\n",
      "<class 'set'> <class 'set'>\n",
      "{1, 2, 3, 4, 5}\n"
     ]
    }
   ],
   "source": [
    "# Array에 또 다른 형태인 Set\n",
    "# [] 는 리스트  {} 는 집합\n",
    "a = {1,2,3}\n",
    "b = {3,4,5}\n",
    "\n",
    "print(a)\n",
    "print(b)\n",
    "print(type(a), type(b))\n",
    "\n",
    "# union 합집합\n",
    "print(a.union(b))"
   ]
  },
  {
   "cell_type": "code",
   "execution_count": 62,
   "id": "ca5b8db7",
   "metadata": {},
   "outputs": [
    {
     "name": "stdout",
     "output_type": "stream",
     "text": [
      "{3}\n"
     ]
    }
   ],
   "source": [
    "# a 와 b의 교집합 \n",
    "print(a.intersection(b))"
   ]
  },
  {
   "cell_type": "code",
   "execution_count": 63,
   "id": "1e3c275a",
   "metadata": {},
   "outputs": [
    {
     "name": "stdout",
     "output_type": "stream",
     "text": [
      "{1, 2}\n",
      "{1, 2, 3, 4, 5}\n",
      "{3}\n",
      "{1, 2, 4, 5}\n"
     ]
    }
   ],
   "source": [
    "print(a - b)  #  a에서 b 중복값 빼고 남은 a 출력\n",
    "print(a | b)  # a, b 합집합 \n",
    "print(a & b)  # a, b 교집합 \n",
    "print(a ^ b)  # a, b 중복값 제외하고 출력"
   ]
  },
  {
   "cell_type": "code",
   "execution_count": 64,
   "id": "5d05e07b",
   "metadata": {},
   "outputs": [
    {
     "name": "stdout",
     "output_type": "stream",
     "text": [
      "{'a': 1, 'b': 3, 'c': 5}\n",
      "<class 'dict'>\n"
     ]
    }
   ],
   "source": [
    "# vue의 json형태\n",
    "# java의 hashmap 형태 (key, value)\n",
    "d = dict(a = 1, b = 3, c = 5)\n",
    "print(d)\n",
    "print(type(d))"
   ]
  },
  {
   "cell_type": "code",
   "execution_count": 65,
   "id": "876aff53",
   "metadata": {},
   "outputs": [
    {
     "name": "stdout",
     "output_type": "stream",
     "text": [
      "{'apple': 'red', 'banna': 'yellow'}\n",
      "red\n"
     ]
    }
   ],
   "source": [
    "color = {'apple': 'red', 'banna': 'yellow'}\n",
    "print(color)\n",
    "print(color['apple'])"
   ]
  },
  {
   "cell_type": "code",
   "execution_count": 66,
   "id": "fecd8bc3",
   "metadata": {},
   "outputs": [
    {
     "name": "stdout",
     "output_type": "stream",
     "text": [
      "{'apple': 'red', 'banna': 'yellow', 'cherry': 'red'}\n"
     ]
    }
   ],
   "source": [
    "# dictionary에 추가입력 key, value 값을 넣어준다.\n",
    "color[\"cherry\"] = \"red\"\n",
    "print(color)"
   ]
  },
  {
   "cell_type": "code",
   "execution_count": 67,
   "id": "4b611546",
   "metadata": {},
   "outputs": [
    {
     "name": "stdout",
     "output_type": "stream",
     "text": [
      "{'apple': 'green', 'banna': 'yellow', 'cherry': 'red'}\n"
     ]
    }
   ],
   "source": [
    "# value값 변경\n",
    "# dictionary 내에서 값은 중복될수 없다.\n",
    "color[\"apple\"] = \"green\"\n",
    "print(color)"
   ]
  },
  {
   "cell_type": "code",
   "execution_count": 68,
   "id": "3ea1d671",
   "metadata": {},
   "outputs": [
    {
     "name": "stdout",
     "output_type": "stream",
     "text": [
      "('apple', 'green')\n",
      "('banna', 'yellow')\n",
      "('cherry', 'red')\n"
     ]
    }
   ],
   "source": [
    "# color내에 있는 요소들을 뽑아서 c로 가져옴(foreach)\n",
    "for c in color.items():\n",
    "    print(c)"
   ]
  },
  {
   "cell_type": "code",
   "execution_count": 69,
   "id": "b8ef4608",
   "metadata": {},
   "outputs": [
    {
     "name": "stdout",
     "output_type": "stream",
     "text": [
      "apple green\n",
      "banna yellow\n",
      "cherry red\n"
     ]
    }
   ],
   "source": [
    "for k, v in color.items():\n",
    "    print(k, v)"
   ]
  },
  {
   "cell_type": "code",
   "execution_count": 70,
   "id": "fa940860",
   "metadata": {},
   "outputs": [
    {
     "name": "stdout",
     "output_type": "stream",
     "text": [
      "apple\n",
      "banna\n",
      "cherry\n"
     ]
    }
   ],
   "source": [
    "# 따로 key 값만 출력\n",
    "for k in color.keys():\n",
    "    print(k)"
   ]
  },
  {
   "cell_type": "code",
   "execution_count": 72,
   "id": "b2085117",
   "metadata": {},
   "outputs": [
    {
     "name": "stdout",
     "output_type": "stream",
     "text": [
      "green\n",
      "yellow\n",
      "red\n"
     ]
    }
   ],
   "source": [
    "# value 값만 출력\n",
    "for v in color.values():\n",
    "    print(v)"
   ]
  },
  {
   "cell_type": "code",
   "execution_count": null,
   "id": "1212eb1b",
   "metadata": {},
   "outputs": [],
   "source": []
  }
 ],
 "metadata": {
  "kernelspec": {
   "display_name": "Python 3",
   "language": "python",
   "name": "python3"
  },
  "language_info": {
   "codemirror_mode": {
    "name": "ipython",
    "version": 3
   },
   "file_extension": ".py",
   "mimetype": "text/x-python",
   "name": "python",
   "nbconvert_exporter": "python",
   "pygments_lexer": "ipython3",
   "version": "3.8.8"
  }
 },
 "nbformat": 4,
 "nbformat_minor": 5
}
