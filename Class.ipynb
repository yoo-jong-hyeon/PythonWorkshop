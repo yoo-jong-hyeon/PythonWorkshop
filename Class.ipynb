{
 "cells": [
  {
   "cell_type": "code",
   "execution_count": 1,
   "id": "b85709c4",
   "metadata": {},
   "outputs": [
    {
     "name": "stdout",
     "output_type": "stream",
     "text": [
      "['In', 'Out', 'PyTestClass', '_', '__', '___', '__builtin__', '__builtins__', '__doc__', '__loader__', '__name__', '__package__', '__spec__', '_dh', '_i', '_i1', '_ih', '_ii', '_iii', '_oh', 'exit', 'get_ipython', 'quit']\n",
      "<class 'type'>\n"
     ]
    }
   ],
   "source": [
    "class PyTestClass:\n",
    "    \"\"\"It's for Test Class\"\"\"\n",
    "    pass\n",
    "\n",
    "print(dir())\n",
    "print(type(PyTestClass))"
   ]
  },
  {
   "cell_type": "code",
   "execution_count": 2,
   "id": "101a3433",
   "metadata": {},
   "outputs": [
    {
     "name": "stdout",
     "output_type": "stream",
     "text": [
      "My name is Default\n",
      "My name is 파이썬3 테스트 클래스\n",
      "My name is 파이썬3 테스트 클래스\n"
     ]
    }
   ],
   "source": [
    "class Person:\n",
    "    Name = \"Default\"\n",
    "    \n",
    "    def Print(self):\n",
    "        print(\"My name is {0}\".format(self.Name))\n",
    "        \n",
    "p = Person()\n",
    "p.Print()\n",
    "\n",
    "p.Name = \"파이썬3 테스트 클래스\"\n",
    "p.Print()\n",
    "Person.Print(p)"
   ]
  },
  {
   "cell_type": "code",
   "execution_count": 3,
   "id": "a2d38940",
   "metadata": {},
   "outputs": [
    {
     "name": "stdout",
     "output_type": "stream",
     "text": [
      "p Name:  파이썬3 테스트 클래스\n",
      "p2 Name:  Default\n",
      "p title:  Python3 테스트\n",
      "p2 title:  Python3 테스트\n",
      "Person title:  Python3 테스트\n",
      "p age:  20\n"
     ]
    }
   ],
   "source": [
    "p2 = Person()\n",
    "\n",
    "print(\"p Name: \", p.Name)\n",
    "print(\"p2 Name: \", p2.Name)\n",
    "\n",
    "Person.title = \"Python3 테스트\"\n",
    "print(\"p title: \", p.title)\n",
    "print(\"p2 title: \", p2.title)\n",
    "print(\"Person title: \", Person.title)\n",
    "\n",
    "p.age = 20\n",
    "print(\"p age: \", p.age)"
   ]
  },
  {
   "cell_type": "code",
   "execution_count": 4,
   "id": "990da041",
   "metadata": {},
   "outputs": [
    {
     "ename": "AttributeError",
     "evalue": "type object 'Person' has no attribute 'age'",
     "output_type": "error",
     "traceback": [
      "\u001b[1;31m---------------------------------------------------------------------------\u001b[0m",
      "\u001b[1;31mAttributeError\u001b[0m                            Traceback (most recent call last)",
      "\u001b[1;32m<ipython-input-4-fab5aa44c49c>\u001b[0m in \u001b[0;36m<module>\u001b[1;34m\u001b[0m\n\u001b[1;32m----> 1\u001b[1;33m \u001b[0mprint\u001b[0m\u001b[1;33m(\u001b[0m\u001b[1;34m\"Person age: \"\u001b[0m\u001b[1;33m,\u001b[0m \u001b[0mPerson\u001b[0m\u001b[1;33m.\u001b[0m\u001b[0mage\u001b[0m\u001b[1;33m)\u001b[0m\u001b[1;33m\u001b[0m\u001b[1;33m\u001b[0m\u001b[0m\n\u001b[0m",
      "\u001b[1;31mAttributeError\u001b[0m: type object 'Person' has no attribute 'age'"
     ]
    }
   ],
   "source": [
    "print(\"Person age: \", Person.age)"
   ]
  },
  {
   "cell_type": "code",
   "execution_count": 9,
   "id": "461928a1",
   "metadata": {},
   "outputs": [
    {
     "name": "stdout",
     "output_type": "stream",
     "text": [
      "클래스 멤버 아님\n",
      "테스트 메세지\n"
     ]
    }
   ],
   "source": [
    "str1 = \"클래스 멤버 아님\"\n",
    "\n",
    "class NonSelfTest:\n",
    "    str1 = \"\"\n",
    "    \n",
    "    def Set(self, msg):\n",
    "        self.str1 = msg\n",
    "        \n",
    "    def Print(self):\n",
    "        print(str1)\n",
    "        \n",
    "    def WhyUseSelfPrint(self):\n",
    "        print(self.str1)\n",
    "        \n",
    "test = NonSelfTest()\n",
    "\n",
    "test.Set(\"테스트 메세지\")\n",
    "test.Print()\n",
    "test.WhyUseSelfPrint()"
   ]
  },
  {
   "cell_type": "code",
   "execution_count": 11,
   "id": "f8aaeab6",
   "metadata": {},
   "outputs": [
    {
     "name": "stdout",
     "output_type": "stream",
     "text": [
      "생성자! Value =  333\n",
      "소멸자!\n"
     ]
    }
   ],
   "source": [
    "class Vehicles:\n",
    "    def __init__(self, value):\n",
    "        self.Value = value\n",
    "        print(\"생성자! Value = \", value)\n",
    "        \n",
    "    def __del__(self):\n",
    "        print(\"소멸자!\")\n",
    "        \n",
    "def test():\n",
    "    v = Vehicles(333);\n",
    "        \n",
    "test()"
   ]
  },
  {
   "cell_type": "code",
   "execution_count": 13,
   "id": "901cb6fc",
   "metadata": {},
   "outputs": [
    {
     "name": "stdout",
     "output_type": "stream",
     "text": [
      "Info(name: Maron, phone num: 045-607-1852)\n",
      "{'name': 'Maron', 'phoneNum': '045-607-1852'}\n",
      "{'name': 'Lunar', 'phoneNum': '550-456-9986', 'subject': 'Electronic Engineering', 'studentId': '755698'}\n"
     ]
    }
   ],
   "source": [
    "class Person:\n",
    "    def __init__(self, name, phoneNum):\n",
    "        self.name = name\n",
    "        self.phoneNum = phoneNum\n",
    "        \n",
    "    def printInfo(self):\n",
    "        print(\"Info(name: {0}, phone num: {1})\".format(self.name, self.phoneNum))\n",
    "\n",
    "# Java extends 상속\n",
    "# Python은 클래스(상속할 클래스명)\n",
    "class Student(Person):\n",
    "    def __init__(self, name, phoneNum, subject, studentId):\n",
    "            self.name = name\n",
    "            self.phoneNum = phoneNum\n",
    "            self.subject = subject\n",
    "            self.studentId = studentId\n",
    "    \n",
    "p = Person(\"Maron\", \"045-607-1852\")\n",
    "s = Student(\"Lunar\", \"550-456-9986\", \"Electronic Engineering\", \"755698\")\n",
    "    \n",
    "p.printInfo()\n",
    "\n",
    "print(p.__dict__)\n",
    "print(s.__dict__)"
   ]
  },
  {
   "cell_type": "code",
   "execution_count": 16,
   "id": "050efabf",
   "metadata": {},
   "outputs": [
    {
     "name": "stdout",
     "output_type": "stream",
     "text": [
      "I'm Sub Class: [3]\n",
      "I'm Suber Class\n",
      "{'Number': 3}\n"
     ]
    }
   ],
   "source": [
    "# super() 활용법\n",
    "class Parent(object):\n",
    "    def __init__(self, number):\n",
    "        self.Number = number\n",
    "        \n",
    "    def printMsg(self):\n",
    "        print(\"I'm Suber Class\")\n",
    "        \n",
    "class Child(Parent):\n",
    "    def __init__(self, number):\n",
    "        super(Child,  self).__init__(number)\n",
    "        \n",
    "    def printMsg(self):\n",
    "        print(\"I'm Sub Class: [%s]\" % str(self.Number))\n",
    "        super(Child, self).printMsg()\n",
    "        \n",
    "c = Child(3)\n",
    "c.printMsg()\n",
    "\n",
    "print(c.__dict__)"
   ]
  },
  {
   "cell_type": "code",
   "execution_count": 23,
   "id": "72f175e7",
   "metadata": {},
   "outputs": [
    {
     "name": "stdout",
     "output_type": "stream",
     "text": [
      "40 0.6395970734571025\n",
      "76 0.7724268330206858\n",
      "9 0.5722136171865279\n",
      "56 0.7724675448777797\n",
      "91 0.10153915289764992\n",
      "8 0.35298874472449426\n",
      "99 0.6227787524282968\n",
      "74 0.1818381942720555\n",
      "4 0.9148076378241508\n",
      "13 0.8235210613131185\n",
      "56 0.3869311524255228\n",
      "79 0.593150688813603\n",
      "18 0.1297613093136506\n",
      "50 0.45674490080892516\n",
      "89 0.12053144944244865\n",
      "23 0.09722818700807367\n",
      "23 0.4138689723780189\n",
      "31 0.6682623710694192\n",
      "82 0.9157097009880271\n",
      "3 0.42664873787328894\n"
     ]
    }
   ],
   "source": [
    "# 파이썬 난수\n",
    "from random import *\n",
    "\n",
    "for i in range(20):\n",
    "    rand_int = randint(1, 100) # 시작, 끝\n",
    "    rand_float = random() # 0 ~ 1 사이\n",
    "    print(rand_int, rand_float)\n",
    "#"
   ]
  },
  {
   "cell_type": "code",
   "execution_count": null,
   "id": "417392f7",
   "metadata": {},
   "outputs": [],
   "source": [
    "\n",
    "# 숙제 1.\n",
    "# 1 ~ 100까지의 숫자중 3의 배수만 추려서 출력하도록\n",
    "# 클래스 및 매서드를 프로그래밍 하시오.\n",
    "\n",
    "# 숙제 2.\n",
    "# 주사위 게임을 플레이할 수 있도록 클래스 및 매서드를 작성하시오.\n",
    "# 주사위는 1개만 굴리도록 하며 승패 판정은 누가 더 높은 주사위 눈금을 가지느냐에 따라 갈린다.\n",
    "\n",
    "# 숙제 3.\n",
    "# 가상의 보드 게임을 만든다.\n",
    "# 한 바퀴를 도는데 총 주사위 눈금이 40칸 필요하다.\n",
    "# 1) 한 바퀴를 돌면 자금으로 100만원이 주어진다.\n",
    "# 2) 주사위의 특수 능력을 활용할 수 있다.\n",
    "#    2-1) 숫자 2: 모두의 자금에서 50만원을 깐다.\n",
    "#    2-2) 숫자 4: 자신의 자금의 5%가 증발한다.\n",
    "#    2-3) 숫자 6: 모두의 자금에 30만원을 추가한다.\n",
    "#    2-4) 모든 플레이어들이 주사위를 돌린 눈금이 짝수일 경우 비밀 상점이 열린다.\n",
    "#         비밀 상점 물품: 레드 티켓(지정한 상대의 주사위가 5턴 동안 정지함) - 100만원\n",
    "#                        옐로 티켓(지정한 상대ㅢ 주사위가 2턴간 정지함) - 50만원\n",
    "#                        카오스 티켓(아무나 한 명 2턴간 정지함) - 10만원\n",
    "#                        뽑기 티켓(1만원, 2만원, 5만원, 10만원, 20만원, 50만원, 100만원) - 10만원\n",
    "#                        연속 굴리기(1회, 2회, 3회, 4회) - 20만원\n",
    "#    2-5) 플레이어가 필드를 3바퀴 돌면 게임이 종료된다. (주사위 눈금 총 120칸 필요)\n",
    "#    2-6) 게임이 종료된 이후 가장 많은 자금을 가지고 있는 사람이 경기에 승리하게 된다.\n",
    "# 게임 팁: 1) 일단 돈을 많이 모은다\n",
    "#          2) 비밀 상점을 활용하여 대박(뽑기)을 노리거나 상대방을 행동 불능에 빠지게 한다.\n",
    "#          3) 유리한 상황에서 연속 굴리기를 통해 게임을 빠르게 끝내도록 유도한다.\n",
    "#          4) 다수가 함께 플레이 할 경우 연속 굴리기를 통해 정치도 가능하다 ?"
   ]
  }
 ],
 "metadata": {
  "kernelspec": {
   "display_name": "Python 3",
   "language": "python",
   "name": "python3"
  },
  "language_info": {
   "codemirror_mode": {
    "name": "ipython",
    "version": 3
   },
   "file_extension": ".py",
   "mimetype": "text/x-python",
   "name": "python",
   "nbconvert_exporter": "python",
   "pygments_lexer": "ipython3",
   "version": "3.8.8"
  }
 },
 "nbformat": 4,
 "nbformat_minor": 5
}
