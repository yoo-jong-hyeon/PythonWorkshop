{
 "cells": [
  {
   "cell_type": "code",
   "execution_count": 1,
   "id": "68857a40",
   "metadata": {},
   "outputs": [
    {
     "name": "stdout",
     "output_type": "stream",
     "text": [
      " C 드라이브의 볼륨에는 이름이 없습니다.\n",
      " 볼륨 일련 번호: 142A-46C5\n",
      "\n",
      " C:\\Users\\jong\\python_works\\PythonWorkshop 디렉터리\n",
      "\n",
      "2021-09-24  오후 06:01    <DIR>          .\n",
      "2021-09-24  오후 06:01    <DIR>          ..\n",
      "2021-09-17  오후 05:48             1,928 .gitignore\n",
      "2021-09-24  오후 05:56    <DIR>          .ipynb_checkpoints\n",
      "2021-09-23  오후 05:44            15,999 Array.ipynb\n",
      "2021-09-23  오후 08:05             8,989 ControlStatement.ipynb\n",
      "2021-09-23  오후 08:13             4,169 DataType.ipynb\n",
      "2021-09-24  오후 06:01             4,947 FileIO.ipynb\n",
      "2021-09-24  오후 05:55            15,588 Function(Method).ipynb\n",
      "2021-09-17  오후 07:54            23,161 python_taste.ipynb\n",
      "2021-09-17  오후 05:48                51 README.md\n",
      "2021-09-17  오후 07:52            27,952 request_success.jpg\n",
      "2021-09-24  오후 06:03                50 test.txt\n",
      "2021-09-17  오후 06:17                 5 text.txt\n",
      "2021-09-17  오후 06:14    <DIR>          Untitled Folder\n",
      "2021-09-17  오후 06:14                 0 untitled.txt\n",
      "              12개 파일             102,839 바이트\n",
      "               4개 디렉터리  11,256,197,120 바이트 남음\n"
     ]
    }
   ],
   "source": [
    "# Windows\n",
    "!dir\n",
    "# Unix or Linux"
   ]
  },
  {
   "cell_type": "code",
   "execution_count": 2,
   "id": "6ff4b15b",
   "metadata": {},
   "outputs": [
    {
     "name": "stdout",
     "output_type": "stream",
     "text": [
      "50\n"
     ]
    }
   ],
   "source": [
    "f = open('test.txt', 'w')\n",
    "print(f.write('Python Basic Programming For Interconnect with Web'))\n",
    "f.close()"
   ]
  },
  {
   "cell_type": "code",
   "execution_count": 3,
   "id": "1fd72faa",
   "metadata": {},
   "outputs": [
    {
     "name": "stdout",
     "output_type": "stream",
     "text": [
      " C 드라이브의 볼륨에는 이름이 없습니다.\n",
      " 볼륨 일련 번호: 142A-46C5\n",
      "\n",
      " C:\\Users\\jong\\python_works\\PythonWorkshop 디렉터리\n",
      "\n",
      "2021-09-24  오후 06:01    <DIR>          .\n",
      "2021-09-24  오후 06:01    <DIR>          ..\n",
      "2021-09-17  오후 05:48             1,928 .gitignore\n",
      "2021-09-24  오후 05:56    <DIR>          .ipynb_checkpoints\n",
      "2021-09-23  오후 05:44            15,999 Array.ipynb\n",
      "2021-09-23  오후 08:05             8,989 ControlStatement.ipynb\n",
      "2021-09-23  오후 08:13             4,169 DataType.ipynb\n",
      "2021-09-24  오후 06:01             4,947 FileIO.ipynb\n",
      "2021-09-24  오후 05:55            15,588 Function(Method).ipynb\n",
      "2021-09-17  오후 07:54            23,161 python_taste.ipynb\n",
      "2021-09-17  오후 05:48                51 README.md\n",
      "2021-09-17  오후 07:52            27,952 request_success.jpg\n",
      "2021-09-24  오후 06:03                50 test.txt\n",
      "2021-09-17  오후 06:17                 5 text.txt\n",
      "2021-09-17  오후 06:14    <DIR>          Untitled Folder\n",
      "2021-09-17  오후 06:14                 0 untitled.txt\n",
      "              12개 파일             102,839 바이트\n",
      "               4개 디렉터리  11,256,197,120 바이트 남음\n"
     ]
    }
   ],
   "source": [
    "!dir"
   ]
  },
  {
   "cell_type": "code",
   "execution_count": 4,
   "id": "42ea8338",
   "metadata": {},
   "outputs": [
    {
     "name": "stdout",
     "output_type": "stream",
     "text": [
      "Python Basic Programming For Interconnect with Web\n"
     ]
    }
   ],
   "source": [
    "!type test.txt"
   ]
  },
  {
   "cell_type": "code",
   "execution_count": 5,
   "id": "7da3cef5",
   "metadata": {},
   "outputs": [
    {
     "name": "stderr",
     "output_type": "stream",
     "text": [
      "'man'은(는) 내부 또는 외부 명령, 실행할 수 있는 프로그램, 또는\n",
      "배치 파일이 아닙니다.\n"
     ]
    }
   ],
   "source": [
    "# Unix & Linux\n",
    "# 시스템 프로그래밍 api를 볼 수 있음\n",
    "!man open"
   ]
  },
  {
   "cell_type": "code",
   "execution_count": 6,
   "id": "0b2a4cd4",
   "metadata": {},
   "outputs": [
    {
     "name": "stderr",
     "output_type": "stream",
     "text": [
      "'man'은(는) 내부 또는 외부 명령, 실행할 수 있는 프로그램, 또는\n",
      "배치 파일이 아닙니다.\n"
     ]
    }
   ],
   "source": [
    "# Unix & Linum\n",
    "!man write"
   ]
  },
  {
   "cell_type": "code",
   "execution_count": 7,
   "id": "0f9bc523",
   "metadata": {},
   "outputs": [
    {
     "name": "stdout",
     "output_type": "stream",
     "text": [
      "Python Basic Programming For Interconnect with Web\n",
      "True\n"
     ]
    }
   ],
   "source": [
    "# Unix의 핵심 철학\n",
    "# 모든것은 파일이다.\n",
    "f = open('test.txt')\n",
    "print(f.read())\n",
    "f.close()\n",
    "print(f.closed)"
   ]
  },
  {
   "cell_type": "code",
   "execution_count": 9,
   "id": "c6345fd9",
   "metadata": {},
   "outputs": [
    {
     "name": "stdout",
     "output_type": "stream",
     "text": [
      "['Python Basic Programming For Interconnect with Web']\n",
      "False\n",
      "True\n"
     ]
    }
   ],
   "source": [
    "with open('test.txt') as f:\n",
    "    print(f.readlines())\n",
    "    print(f.closed)\n",
    "    \n",
    "print(f.closed)"
   ]
  },
  {
   "cell_type": "code",
   "execution_count": 10,
   "id": "32aa8950",
   "metadata": {},
   "outputs": [
    {
     "name": "stdout",
     "output_type": "stream",
     "text": [
      "['red', 'green', 'blue']\n"
     ]
    }
   ],
   "source": [
    "colors = [\"red\", \"green\", \"blue\"]\n",
    "print(colors)"
   ]
  },
  {
   "cell_type": "code",
   "execution_count": 11,
   "id": "d2945c67",
   "metadata": {},
   "outputs": [
    {
     "name": "stdout",
     "output_type": "stream",
     "text": [
      "True\n"
     ]
    }
   ],
   "source": [
    "# globals()를 활용하는 방법\n",
    "# 실제 객체가 만들어졌는지 안만들어졌는지 등을 아래와 같은 형식으로 체크 할 수 있다.\n",
    "def chk_colors():\n",
    "    if \"colors\" in globals():\n",
    "        print(\"True\")\n",
    "    else:\n",
    "        print(\"False\")\n",
    "        \n",
    "chk_colors()"
   ]
  },
  {
   "cell_type": "code",
   "execution_count": 12,
   "id": "465c2c5d",
   "metadata": {},
   "outputs": [
    {
     "data": {
      "text/plain": [
       "{'__name__': '__main__',\n",
       " '__doc__': 'Automatically created module for IPython interactive environment',\n",
       " '__package__': None,\n",
       " '__loader__': None,\n",
       " '__spec__': None,\n",
       " '__builtin__': <module 'builtins' (built-in)>,\n",
       " '__builtins__': <module 'builtins' (built-in)>,\n",
       " '_ih': ['',\n",
       "  \"# Windows\\nget_ipython().system('dir')\\n# Unix or Linux\",\n",
       "  \"f = open('test.txt', 'w')\\nprint(f.write('Python Basic Programming For Interconnect with Web'))\\nf.close()\",\n",
       "  \"get_ipython().system('dir')\",\n",
       "  \"get_ipython().system('type test.txt')\",\n",
       "  \"# Unix & Linux\\n# 시스템 프로그래밍 api를 볼 수 있음\\nget_ipython().system('man open')\",\n",
       "  \"# Unix & Linum\\nget_ipython().system('man write')\",\n",
       "  \"f = open('test.txt')\\nprint(f.read())\\nf.close()\\nprint(f.closed)\",\n",
       "  \"with opetn('test.txt') as f:\\n    print(f.readlines())\\n    print(f.closed)\\n    \\nprint(f.closed)\",\n",
       "  \"with open('test.txt') as f:\\n    print(f.readlines())\\n    print(f.closed)\\n    \\nprint(f.closed)\",\n",
       "  'colors = [\"red\", \"green\", \"blue\"]\\nprint(colors)',\n",
       "  'def chk_colors():\\n    if \"colors\" in globals():\\n        print(\"True\")\\n    else:\\n        print(\"False\")\\n        \\nchk_colors()',\n",
       "  'globals()'],\n",
       " '_oh': {},\n",
       " '_dh': ['C:\\\\Users\\\\jong\\\\python_works\\\\PythonWorkshop'],\n",
       " 'In': ['',\n",
       "  \"# Windows\\nget_ipython().system('dir')\\n# Unix or Linux\",\n",
       "  \"f = open('test.txt', 'w')\\nprint(f.write('Python Basic Programming For Interconnect with Web'))\\nf.close()\",\n",
       "  \"get_ipython().system('dir')\",\n",
       "  \"get_ipython().system('type test.txt')\",\n",
       "  \"# Unix & Linux\\n# 시스템 프로그래밍 api를 볼 수 있음\\nget_ipython().system('man open')\",\n",
       "  \"# Unix & Linum\\nget_ipython().system('man write')\",\n",
       "  \"f = open('test.txt')\\nprint(f.read())\\nf.close()\\nprint(f.closed)\",\n",
       "  \"with opetn('test.txt') as f:\\n    print(f.readlines())\\n    print(f.closed)\\n    \\nprint(f.closed)\",\n",
       "  \"with open('test.txt') as f:\\n    print(f.readlines())\\n    print(f.closed)\\n    \\nprint(f.closed)\",\n",
       "  'colors = [\"red\", \"green\", \"blue\"]\\nprint(colors)',\n",
       "  'def chk_colors():\\n    if \"colors\" in globals():\\n        print(\"True\")\\n    else:\\n        print(\"False\")\\n        \\nchk_colors()',\n",
       "  'globals()'],\n",
       " 'Out': {},\n",
       " 'get_ipython': <bound method InteractiveShell.get_ipython of <ipykernel.zmqshell.ZMQInteractiveShell object at 0x000001C0372F1850>>,\n",
       " 'exit': <IPython.core.autocall.ZMQExitAutocall at 0x1c037362580>,\n",
       " 'quit': <IPython.core.autocall.ZMQExitAutocall at 0x1c037362580>,\n",
       " '_': '',\n",
       " '__': '',\n",
       " '___': '',\n",
       " '_i': 'def chk_colors():\\n    if \"colors\" in globals():\\n        print(\"True\")\\n    else:\\n        print(\"False\")\\n        \\nchk_colors()',\n",
       " '_ii': 'colors = [\"red\", \"green\", \"blue\"]\\nprint(colors)',\n",
       " '_iii': \"with open('test.txt') as f:\\n    print(f.readlines())\\n    print(f.closed)\\n    \\nprint(f.closed)\",\n",
       " '_i1': '# Windows\\n!dir\\n# Unix or Linux',\n",
       " '_exit_code': 1,\n",
       " '_i2': \"f = open('test.txt', 'w')\\nprint(f.write('Python Basic Programming For Interconnect with Web'))\\nf.close()\",\n",
       " 'f': <_io.TextIOWrapper name='test.txt' mode='r' encoding='cp949'>,\n",
       " '_i3': '!dir',\n",
       " '_i4': '!type test.txt',\n",
       " '_i5': '# Unix & Linux\\n# 시스템 프로그래밍 api를 볼 수 있음\\n!man open',\n",
       " '_i6': '# Unix & Linum\\n!man write',\n",
       " '_i7': \"f = open('test.txt')\\nprint(f.read())\\nf.close()\\nprint(f.closed)\",\n",
       " '_i8': \"with opetn('test.txt') as f:\\n    print(f.readlines())\\n    print(f.closed)\\n    \\nprint(f.closed)\",\n",
       " '_i9': \"with open('test.txt') as f:\\n    print(f.readlines())\\n    print(f.closed)\\n    \\nprint(f.closed)\",\n",
       " '_i10': 'colors = [\"red\", \"green\", \"blue\"]\\nprint(colors)',\n",
       " 'colors': ['red', 'green', 'blue'],\n",
       " '_i11': 'def chk_colors():\\n    if \"colors\" in globals():\\n        print(\"True\")\\n    else:\\n        print(\"False\")\\n        \\nchk_colors()',\n",
       " 'chk_colors': <function __main__.chk_colors()>,\n",
       " '_i12': 'globals()'}"
      ]
     },
     "execution_count": 12,
     "metadata": {},
     "output_type": "execute_result"
    }
   ],
   "source": [
    "globals()"
   ]
  },
  {
   "cell_type": "code",
   "execution_count": 13,
   "id": "0a3fa701",
   "metadata": {},
   "outputs": [
    {
     "name": "stdout",
     "output_type": "stream",
     "text": [
      "False\n"
     ]
    }
   ],
   "source": [
    "import pickle\n",
    "\n",
    "f = open(\"colors\", \"wb\")\n",
    "                 # \"wb\" write binary 객체정보이기때문에 binary형식으로 \n",
    "pickle.dump(colors, f)\n",
    "f.close()\n",
    "\n",
    "del colors\n",
    "\n",
    "chk_colors()"
   ]
  },
  {
   "cell_type": "code",
   "execution_count": 14,
   "id": "67e62b04",
   "metadata": {},
   "outputs": [
    {
     "data": {
      "text/plain": [
       "{'__name__': '__main__',\n",
       " '__doc__': 'Automatically created module for IPython interactive environment',\n",
       " '__package__': None,\n",
       " '__loader__': None,\n",
       " '__spec__': None,\n",
       " '__builtin__': <module 'builtins' (built-in)>,\n",
       " '__builtins__': <module 'builtins' (built-in)>,\n",
       " '_ih': ['',\n",
       "  \"# Windows\\nget_ipython().system('dir')\\n# Unix or Linux\",\n",
       "  \"f = open('test.txt', 'w')\\nprint(f.write('Python Basic Programming For Interconnect with Web'))\\nf.close()\",\n",
       "  \"get_ipython().system('dir')\",\n",
       "  \"get_ipython().system('type test.txt')\",\n",
       "  \"# Unix & Linux\\n# 시스템 프로그래밍 api를 볼 수 있음\\nget_ipython().system('man open')\",\n",
       "  \"# Unix & Linum\\nget_ipython().system('man write')\",\n",
       "  \"f = open('test.txt')\\nprint(f.read())\\nf.close()\\nprint(f.closed)\",\n",
       "  \"with opetn('test.txt') as f:\\n    print(f.readlines())\\n    print(f.closed)\\n    \\nprint(f.closed)\",\n",
       "  \"with open('test.txt') as f:\\n    print(f.readlines())\\n    print(f.closed)\\n    \\nprint(f.closed)\",\n",
       "  'colors = [\"red\", \"green\", \"blue\"]\\nprint(colors)',\n",
       "  'def chk_colors():\\n    if \"colors\" in globals():\\n        print(\"True\")\\n    else:\\n        print(\"False\")\\n        \\nchk_colors()',\n",
       "  'globals()',\n",
       "  'import pickle\\n\\nf = open(\"colors\", \"wb\")\\npickle.dump(colors, f)\\nf.close()\\n\\ndel colors\\n\\nchk_colors()',\n",
       "  'globals()'],\n",
       " '_oh': {12: {...}},\n",
       " '_dh': ['C:\\\\Users\\\\jong\\\\python_works\\\\PythonWorkshop'],\n",
       " 'In': ['',\n",
       "  \"# Windows\\nget_ipython().system('dir')\\n# Unix or Linux\",\n",
       "  \"f = open('test.txt', 'w')\\nprint(f.write('Python Basic Programming For Interconnect with Web'))\\nf.close()\",\n",
       "  \"get_ipython().system('dir')\",\n",
       "  \"get_ipython().system('type test.txt')\",\n",
       "  \"# Unix & Linux\\n# 시스템 프로그래밍 api를 볼 수 있음\\nget_ipython().system('man open')\",\n",
       "  \"# Unix & Linum\\nget_ipython().system('man write')\",\n",
       "  \"f = open('test.txt')\\nprint(f.read())\\nf.close()\\nprint(f.closed)\",\n",
       "  \"with opetn('test.txt') as f:\\n    print(f.readlines())\\n    print(f.closed)\\n    \\nprint(f.closed)\",\n",
       "  \"with open('test.txt') as f:\\n    print(f.readlines())\\n    print(f.closed)\\n    \\nprint(f.closed)\",\n",
       "  'colors = [\"red\", \"green\", \"blue\"]\\nprint(colors)',\n",
       "  'def chk_colors():\\n    if \"colors\" in globals():\\n        print(\"True\")\\n    else:\\n        print(\"False\")\\n        \\nchk_colors()',\n",
       "  'globals()',\n",
       "  'import pickle\\n\\nf = open(\"colors\", \"wb\")\\npickle.dump(colors, f)\\nf.close()\\n\\ndel colors\\n\\nchk_colors()',\n",
       "  'globals()'],\n",
       " 'Out': {12: {...}},\n",
       " 'get_ipython': <bound method InteractiveShell.get_ipython of <ipykernel.zmqshell.ZMQInteractiveShell object at 0x000001C0372F1850>>,\n",
       " 'exit': <IPython.core.autocall.ZMQExitAutocall at 0x1c037362580>,\n",
       " 'quit': <IPython.core.autocall.ZMQExitAutocall at 0x1c037362580>,\n",
       " '_': {...},\n",
       " '__': '',\n",
       " '___': '',\n",
       " '_i': 'import pickle\\n\\nf = open(\"colors\", \"wb\")\\npickle.dump(colors, f)\\nf.close()\\n\\ndel colors\\n\\nchk_colors()',\n",
       " '_ii': 'globals()',\n",
       " '_iii': 'def chk_colors():\\n    if \"colors\" in globals():\\n        print(\"True\")\\n    else:\\n        print(\"False\")\\n        \\nchk_colors()',\n",
       " '_i1': '# Windows\\n!dir\\n# Unix or Linux',\n",
       " '_exit_code': 1,\n",
       " '_i2': \"f = open('test.txt', 'w')\\nprint(f.write('Python Basic Programming For Interconnect with Web'))\\nf.close()\",\n",
       " 'f': <_io.BufferedWriter name='colors'>,\n",
       " '_i3': '!dir',\n",
       " '_i4': '!type test.txt',\n",
       " '_i5': '# Unix & Linux\\n# 시스템 프로그래밍 api를 볼 수 있음\\n!man open',\n",
       " '_i6': '# Unix & Linum\\n!man write',\n",
       " '_i7': \"f = open('test.txt')\\nprint(f.read())\\nf.close()\\nprint(f.closed)\",\n",
       " '_i8': \"with opetn('test.txt') as f:\\n    print(f.readlines())\\n    print(f.closed)\\n    \\nprint(f.closed)\",\n",
       " '_i9': \"with open('test.txt') as f:\\n    print(f.readlines())\\n    print(f.closed)\\n    \\nprint(f.closed)\",\n",
       " '_i10': 'colors = [\"red\", \"green\", \"blue\"]\\nprint(colors)',\n",
       " '_i11': 'def chk_colors():\\n    if \"colors\" in globals():\\n        print(\"True\")\\n    else:\\n        print(\"False\")\\n        \\nchk_colors()',\n",
       " 'chk_colors': <function __main__.chk_colors()>,\n",
       " '_i12': 'globals()',\n",
       " '_12': {...},\n",
       " '_i13': 'import pickle\\n\\nf = open(\"colors\", \"wb\")\\npickle.dump(colors, f)\\nf.close()\\n\\ndel colors\\n\\nchk_colors()',\n",
       " 'pickle': <module 'pickle' from 'C:\\\\ProgramData\\\\Anaconda3\\\\lib\\\\pickle.py'>,\n",
       " '_i14': 'globals()'}"
      ]
     },
     "execution_count": 14,
     "metadata": {},
     "output_type": "execute_result"
    }
   ],
   "source": [
    "globals()"
   ]
  },
  {
   "cell_type": "code",
   "execution_count": 15,
   "id": "0b908b91",
   "metadata": {},
   "outputs": [
    {
     "name": "stdout",
     "output_type": "stream",
     "text": [
      "['red', 'green', 'blue']\n"
     ]
    }
   ],
   "source": [
    "f = open(\"colors\", \"rb\")\n",
    "colors = pickle.load(f)\n",
    "f.close()\n",
    "\n",
    "print(colors)"
   ]
  },
  {
   "cell_type": "code",
   "execution_count": 16,
   "id": "1872d91c",
   "metadata": {},
   "outputs": [
    {
     "name": "stdout",
     "output_type": "stream",
     "text": [
      "True\n"
     ]
    }
   ],
   "source": [
    "chk_colors()"
   ]
  },
  {
   "cell_type": "code",
   "execution_count": 17,
   "id": "5da9de7d",
   "metadata": {},
   "outputs": [
    {
     "data": {
      "text/plain": [
       "{'__name__': '__main__',\n",
       " '__doc__': 'Automatically created module for IPython interactive environment',\n",
       " '__package__': None,\n",
       " '__loader__': None,\n",
       " '__spec__': None,\n",
       " '__builtin__': <module 'builtins' (built-in)>,\n",
       " '__builtins__': <module 'builtins' (built-in)>,\n",
       " '_ih': ['',\n",
       "  \"# Windows\\nget_ipython().system('dir')\\n# Unix or Linux\",\n",
       "  \"f = open('test.txt', 'w')\\nprint(f.write('Python Basic Programming For Interconnect with Web'))\\nf.close()\",\n",
       "  \"get_ipython().system('dir')\",\n",
       "  \"get_ipython().system('type test.txt')\",\n",
       "  \"# Unix & Linux\\n# 시스템 프로그래밍 api를 볼 수 있음\\nget_ipython().system('man open')\",\n",
       "  \"# Unix & Linum\\nget_ipython().system('man write')\",\n",
       "  \"f = open('test.txt')\\nprint(f.read())\\nf.close()\\nprint(f.closed)\",\n",
       "  \"with opetn('test.txt') as f:\\n    print(f.readlines())\\n    print(f.closed)\\n    \\nprint(f.closed)\",\n",
       "  \"with open('test.txt') as f:\\n    print(f.readlines())\\n    print(f.closed)\\n    \\nprint(f.closed)\",\n",
       "  'colors = [\"red\", \"green\", \"blue\"]\\nprint(colors)',\n",
       "  'def chk_colors():\\n    if \"colors\" in globals():\\n        print(\"True\")\\n    else:\\n        print(\"False\")\\n        \\nchk_colors()',\n",
       "  'globals()',\n",
       "  'import pickle\\n\\nf = open(\"colors\", \"wb\")\\npickle.dump(colors, f)\\nf.close()\\n\\ndel colors\\n\\nchk_colors()',\n",
       "  'globals()',\n",
       "  'f = open(\"colors\", \"rb\")\\ncolors = pickle.load(f)\\nf.close()\\n\\nprint(colors)',\n",
       "  'chk_colors()',\n",
       "  'globals()'],\n",
       " '_oh': {12: {...}, 14: {...}},\n",
       " '_dh': ['C:\\\\Users\\\\jong\\\\python_works\\\\PythonWorkshop'],\n",
       " 'In': ['',\n",
       "  \"# Windows\\nget_ipython().system('dir')\\n# Unix or Linux\",\n",
       "  \"f = open('test.txt', 'w')\\nprint(f.write('Python Basic Programming For Interconnect with Web'))\\nf.close()\",\n",
       "  \"get_ipython().system('dir')\",\n",
       "  \"get_ipython().system('type test.txt')\",\n",
       "  \"# Unix & Linux\\n# 시스템 프로그래밍 api를 볼 수 있음\\nget_ipython().system('man open')\",\n",
       "  \"# Unix & Linum\\nget_ipython().system('man write')\",\n",
       "  \"f = open('test.txt')\\nprint(f.read())\\nf.close()\\nprint(f.closed)\",\n",
       "  \"with opetn('test.txt') as f:\\n    print(f.readlines())\\n    print(f.closed)\\n    \\nprint(f.closed)\",\n",
       "  \"with open('test.txt') as f:\\n    print(f.readlines())\\n    print(f.closed)\\n    \\nprint(f.closed)\",\n",
       "  'colors = [\"red\", \"green\", \"blue\"]\\nprint(colors)',\n",
       "  'def chk_colors():\\n    if \"colors\" in globals():\\n        print(\"True\")\\n    else:\\n        print(\"False\")\\n        \\nchk_colors()',\n",
       "  'globals()',\n",
       "  'import pickle\\n\\nf = open(\"colors\", \"wb\")\\npickle.dump(colors, f)\\nf.close()\\n\\ndel colors\\n\\nchk_colors()',\n",
       "  'globals()',\n",
       "  'f = open(\"colors\", \"rb\")\\ncolors = pickle.load(f)\\nf.close()\\n\\nprint(colors)',\n",
       "  'chk_colors()',\n",
       "  'globals()'],\n",
       " 'Out': {12: {...}, 14: {...}},\n",
       " 'get_ipython': <bound method InteractiveShell.get_ipython of <ipykernel.zmqshell.ZMQInteractiveShell object at 0x000001C0372F1850>>,\n",
       " 'exit': <IPython.core.autocall.ZMQExitAutocall at 0x1c037362580>,\n",
       " 'quit': <IPython.core.autocall.ZMQExitAutocall at 0x1c037362580>,\n",
       " '_': {...},\n",
       " '__': {...},\n",
       " '___': '',\n",
       " '_i': 'chk_colors()',\n",
       " '_ii': 'f = open(\"colors\", \"rb\")\\ncolors = pickle.load(f)\\nf.close()\\n\\nprint(colors)',\n",
       " '_iii': 'globals()',\n",
       " '_i1': '# Windows\\n!dir\\n# Unix or Linux',\n",
       " '_exit_code': 1,\n",
       " '_i2': \"f = open('test.txt', 'w')\\nprint(f.write('Python Basic Programming For Interconnect with Web'))\\nf.close()\",\n",
       " 'f': <_io.BufferedReader name='colors'>,\n",
       " '_i3': '!dir',\n",
       " '_i4': '!type test.txt',\n",
       " '_i5': '# Unix & Linux\\n# 시스템 프로그래밍 api를 볼 수 있음\\n!man open',\n",
       " '_i6': '# Unix & Linum\\n!man write',\n",
       " '_i7': \"f = open('test.txt')\\nprint(f.read())\\nf.close()\\nprint(f.closed)\",\n",
       " '_i8': \"with opetn('test.txt') as f:\\n    print(f.readlines())\\n    print(f.closed)\\n    \\nprint(f.closed)\",\n",
       " '_i9': \"with open('test.txt') as f:\\n    print(f.readlines())\\n    print(f.closed)\\n    \\nprint(f.closed)\",\n",
       " '_i10': 'colors = [\"red\", \"green\", \"blue\"]\\nprint(colors)',\n",
       " '_i11': 'def chk_colors():\\n    if \"colors\" in globals():\\n        print(\"True\")\\n    else:\\n        print(\"False\")\\n        \\nchk_colors()',\n",
       " 'chk_colors': <function __main__.chk_colors()>,\n",
       " '_i12': 'globals()',\n",
       " '_12': {...},\n",
       " '_i13': 'import pickle\\n\\nf = open(\"colors\", \"wb\")\\npickle.dump(colors, f)\\nf.close()\\n\\ndel colors\\n\\nchk_colors()',\n",
       " 'pickle': <module 'pickle' from 'C:\\\\ProgramData\\\\Anaconda3\\\\lib\\\\pickle.py'>,\n",
       " '_i14': 'globals()',\n",
       " '_14': {...},\n",
       " '_i15': 'f = open(\"colors\", \"rb\")\\ncolors = pickle.load(f)\\nf.close()\\n\\nprint(colors)',\n",
       " 'colors': ['red', 'green', 'blue'],\n",
       " '_i16': 'chk_colors()',\n",
       " '_i17': 'globals()'}"
      ]
     },
     "execution_count": 17,
     "metadata": {},
     "output_type": "execute_result"
    }
   ],
   "source": [
    "globals()"
   ]
  },
  {
   "cell_type": "code",
   "execution_count": 18,
   "id": "db8169f9",
   "metadata": {},
   "outputs": [
    {
     "name": "stdout",
     "output_type": "stream",
     "text": [
      "<__main__.Test object at 0x000001C037381A30>\n",
      "Test\n"
     ]
    }
   ],
   "source": [
    "class Test:\n",
    "    var = None\n",
    "    \n",
    "a = Test()\n",
    "a.var = \"Test\"\n",
    "\n",
    "f = open(\"test\", \"wb\")\n",
    "pickle.dump(a, f)\n",
    "f.close()\n",
    "\n",
    "print(a)\n",
    "print(a.var)\n",
    "\n",
    "del a"
   ]
  },
  {
   "cell_type": "code",
   "execution_count": 19,
   "id": "e963b0f8",
   "metadata": {},
   "outputs": [
    {
     "ename": "NameError",
     "evalue": "name 'a' is not defined",
     "output_type": "error",
     "traceback": [
      "\u001b[1;31m---------------------------------------------------------------------------\u001b[0m",
      "\u001b[1;31mNameError\u001b[0m                                 Traceback (most recent call last)",
      "\u001b[1;32m<ipython-input-19-bca0e2660b9f>\u001b[0m in \u001b[0;36m<module>\u001b[1;34m\u001b[0m\n\u001b[1;32m----> 1\u001b[1;33m \u001b[0mprint\u001b[0m\u001b[1;33m(\u001b[0m\u001b[0ma\u001b[0m\u001b[1;33m)\u001b[0m\u001b[1;33m\u001b[0m\u001b[1;33m\u001b[0m\u001b[0m\n\u001b[0m",
      "\u001b[1;31mNameError\u001b[0m: name 'a' is not defined"
     ]
    }
   ],
   "source": [
    "print(a)"
   ]
  },
  {
   "cell_type": "code",
   "execution_count": 20,
   "id": "123b52af",
   "metadata": {},
   "outputs": [
    {
     "name": "stdout",
     "output_type": "stream",
     "text": [
      "<__main__.Test object at 0x000001C03738B460>\n",
      "Test\n"
     ]
    }
   ],
   "source": [
    "f = open(\"test\", \"rb\")\n",
    "b = pickle.load(f)\n",
    "f.close()\n",
    "\n",
    "print(b)\n",
    "print(b.var)"
   ]
  },
  {
   "cell_type": "code",
   "execution_count": null,
   "id": "819f1288",
   "metadata": {},
   "outputs": [],
   "source": []
  }
 ],
 "metadata": {
  "kernelspec": {
   "display_name": "Python 3",
   "language": "python",
   "name": "python3"
  },
  "language_info": {
   "codemirror_mode": {
    "name": "ipython",
    "version": 3
   },
   "file_extension": ".py",
   "mimetype": "text/x-python",
   "name": "python",
   "nbconvert_exporter": "python",
   "pygments_lexer": "ipython3",
   "version": "3.8.8"
  }
 },
 "nbformat": 4,
 "nbformat_minor": 5
}
