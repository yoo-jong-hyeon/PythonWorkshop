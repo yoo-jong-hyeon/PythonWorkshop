{
 "cells": [
  {
   "cell_type": "code",
   "execution_count": 21,
   "id": "053e324b",
   "metadata": {},
   "outputs": [
    {
     "name": "stdout",
     "output_type": "stream",
     "text": [
      "3\n",
      "6\n",
      "9\n",
      "12\n",
      "15\n",
      "18\n",
      "21\n",
      "24\n",
      "27\n",
      "30\n",
      "33\n",
      "36\n",
      "39\n",
      "42\n",
      "45\n",
      "48\n",
      "51\n",
      "54\n",
      "57\n",
      "60\n",
      "63\n",
      "66\n",
      "69\n",
      "72\n",
      "75\n",
      "78\n",
      "81\n",
      "84\n",
      "87\n",
      "90\n",
      "93\n",
      "96\n",
      "99\n"
     ]
    }
   ],
   "source": [
    "# 숙제 1.\n",
    "# 1 ~ 100까지의 숫자중 3의 배수만 추려서 출력하도록\n",
    "# 클래스 및 매서드를 프로그래밍 하시오.\n",
    "def chk_number():\n",
    "    for i in range(1,100):\n",
    "            if i % 3 == 0:\n",
    "                print(i)\n",
    "                \n",
    "                \n",
    "chk_number()"
   ]
  },
  {
   "cell_type": "code",
   "execution_count": 37,
   "id": "0f05b4d7",
   "metadata": {},
   "outputs": [
    {
     "name": "stdout",
     "output_type": "stream",
     "text": [
      "user:  4\n",
      "com:  3\n",
      "user1 승리\n"
     ]
    }
   ],
   "source": [
    "# 숙제 2.\n",
    "# 주사위 게임을 플레이할 수 있도록 클래스 및 매서드를 작성하시오.\n",
    "# 주사위는 1개만 굴리도록 하며 승패 판정은 누가 더 높은 주사위 눈금을 가지느냐에 따라 갈린다.\n",
    "import random\n",
    "class DiceGame():\n",
    "    for i in range(1):\n",
    "        user = random.randint(1, 6)\n",
    "        com = random.randint(1, 6)\n",
    "        if user > com:\n",
    "            print(\"user: \", user)\n",
    "            print(\"com: \", com)\n",
    "            print(\"user1 승리\")\n",
    "        elif user < com:\n",
    "            print(\"user: \", user)\n",
    "            print(\"com: \", com)\n",
    "            print(\"user2 승리\")\n",
    "        elif user == com:\n",
    "            print(\"user: \", user)\n",
    "            print(\"com: \", com)\n",
    "            print(\"무승부\")"
   ]
  },
  {
   "cell_type": "code",
   "execution_count": null,
   "id": "9fd5d15b",
   "metadata": {},
   "outputs": [],
   "source": [
    "# 숙제 3.\n",
    "# 가상의 보드 게임을 만든다.\n",
    "# 한 바퀴를 도는데 총 주사위 눈금이 40칸 필요하다.\n",
    "# 1) 한 바퀴를 돌면 자금으로 100만원이 주어진다.\n",
    "# 2) 주사위의 특수 능력을 활용할 수 있다.\n",
    "#    2-1) 숫자 2: 모두의 자금에서 50만원을 깐다.\n",
    "#    2-2) 숫자 4: 자신의 자금의 5%가 증발한다.\n",
    "#    2-3) 숫자 6: 모두의 자금에 30만원을 추가한다.\n",
    "#    2-4) 모든 플레이어들이 주사위를 돌린 눈금이 짝수일 경우 비밀 상점이 열린다.\n",
    "#         비밀 상점 물품: 레드 티켓(지정한 상대의 주사위가 5턴 동안 정지함) - 100만원\n",
    "#                        옐로 티켓(지정한 상대ㅢ 주사위가 2턴간 정지함) - 50만원\n",
    "#                        카오스 티켓(아무나 한 명 2턴간 정지함) - 10만원\n",
    "#                        뽑기 티켓(1만원, 2만원, 5만원, 10만원, 20만원, 50만원, 100만원) - 10만원\n",
    "#                        연속 굴리기(1회, 2회, 3회, 4회) - 20만원\n",
    "#    2-5) 플레이어가 필드를 3바퀴 돌면 게임이 종료된다. (주사위 눈금 총 120칸 필요)\n",
    "#    2-6) 게임이 종료된 이후 가장 많은 자금을 가지고 있는 사람이 경기에 승리하게 된다.\n",
    "# 게임 팁: 1) 일단 돈을 많이 모은다\n",
    "#          2) 비밀 상점을 활용하여 대박(뽑기)을 노리거나 상대방을 행동 불능에 빠지게 한다.\n",
    "#          3) 유리한 상황에서 연속 굴리기를 통해 게임을 빠르게 끝내도록 유도한다.\n",
    "#          4) 다수가 함께 플레이 할 경우 연속 굴리기를 통해 정치도 가능하다 ?\n"
   ]
  },
  {
   "cell_type": "code",
   "execution_count": null,
   "id": "ed4ef652",
   "metadata": {},
   "outputs": [],
   "source": []
  },
  {
   "cell_type": "code",
   "execution_count": null,
   "id": "4e445e09",
   "metadata": {},
   "outputs": [],
   "source": []
  }
 ],
 "metadata": {
  "kernelspec": {
   "display_name": "Python 3",
   "language": "python",
   "name": "python3"
  },
  "language_info": {
   "codemirror_mode": {
    "name": "ipython",
    "version": 3
   },
   "file_extension": ".py",
   "mimetype": "text/x-python",
   "name": "python",
   "nbconvert_exporter": "python",
   "pygments_lexer": "ipython3",
   "version": "3.8.8"
  }
 },
 "nbformat": 4,
 "nbformat_minor": 5
}
