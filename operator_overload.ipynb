{
 "cells": [
  {
   "cell_type": "code",
   "execution_count": 2,
   "id": "3a8cdd3f",
   "metadata": {},
   "outputs": [
    {
     "name": "stdout",
     "output_type": "stream",
     "text": [
      "__add__ 2d 벡터 덧셈\n",
      "3, 5\n",
      "__sub__ 2d 벡터 뺄셈\n",
      "-1, -1\n"
     ]
    }
   ],
   "source": [
    "class Vector2d(object):\n",
    "    # 생성자\n",
    "    def __init__(self, x, y):\n",
    "        self.x = x\n",
    "        self.y = y\n",
    "        \n",
    "    # print 출력시 (Java로 치면 toString 역할)    \n",
    "    def __repr__(self):\n",
    "        return str(self.x) + \", \" + str(self.y)\n",
    "    \n",
    "    # 덧셈 기호가 붙었을때 동작을 어떻게 하는지 여부\n",
    "    # ex) A + B\n",
    "    # A.__add__(B)\n",
    "    # 즉 A의 내용은 self가 처리하고\n",
    "    # B의 내용은 other가 처리하게 된다.\n",
    "    def __add__(self, other):\n",
    "        print(\"__add__ 2d 벡터 덧셈\")\n",
    "        return Vector2d(self.x + other.x, self.y + other.y)\n",
    "    \n",
    "    def __sub__(self, other):\n",
    "        print(\"__sub__ 2d 벡터 뺄셈\")\n",
    "        return Vector2d(self.x - other.x, self.y - other.y)\n",
    "    \n",
    "    def getVector(self):\n",
    "        return [self.x, self.y]\n",
    "\n",
    "A = Vector2d(1, 2)\n",
    "B = Vector2d(2, 3)\n",
    "\n",
    "print(A + B)\n",
    "print(A - B)\n",
    "\n",
    "# 보는 바와 같이 연산자 오버로딩은 덧셈의 기능을 확장할 수 있다.\n",
    "# 필요하다면 복소수간의 덧셈도 이런식으로 만들수 있으나~\n",
    "# 우리가 딥러닝을 하는 것은 아니므로 요정도면 충분하다."
   ]
  },
  {
   "cell_type": "code",
   "execution_count": null,
   "id": "ae2df014",
   "metadata": {},
   "outputs": [],
   "source": []
  }
 ],
 "metadata": {
  "kernelspec": {
   "display_name": "Python 3",
   "language": "python",
   "name": "python3"
  },
  "language_info": {
   "codemirror_mode": {
    "name": "ipython",
    "version": 3
   },
   "file_extension": ".py",
   "mimetype": "text/x-python",
   "name": "python",
   "nbconvert_exporter": "python",
   "pygments_lexer": "ipython3",
   "version": "3.8.8"
  }
 },
 "nbformat": 4,
 "nbformat_minor": 5
}
