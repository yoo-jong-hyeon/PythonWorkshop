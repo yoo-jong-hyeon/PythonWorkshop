{
 "cells": [
  {
   "cell_type": "code",
   "execution_count": 1,
   "id": "707e6ad1",
   "metadata": {},
   "outputs": [],
   "source": [
    "#파이썬에서 주석은 '#' 으로 작성 합니다."
   ]
  },
  {
   "cell_type": "code",
   "execution_count": 6,
   "id": "8008dce3",
   "metadata": {},
   "outputs": [],
   "source": [
    "### File Write\n",
    "data = \"hello\"\n",
    "with open(\"test.txt\", \"w\") as fp:\n",
    "    fp.write(data)"
   ]
  },
  {
   "cell_type": "code",
   "execution_count": 7,
   "id": "058b5be3",
   "metadata": {},
   "outputs": [
    {
     "name": "stdout",
     "output_type": "stream",
     "text": [
      "파이썬 쉽네?\n",
      "hello\n"
     ]
    }
   ],
   "source": [
    "### File Write\n",
    "\n",
    "with open(\"test.txt\", \"r\") as fp:\n",
    "    print(\"파이썬 쉽네?\")\n",
    "    print(fp.read())\n",
    "    "
   ]
  },
  {
   "cell_type": "code",
   "execution_count": 8,
   "id": "f699498c",
   "metadata": {},
   "outputs": [
    {
     "name": "stdout",
     "output_type": "stream",
     "text": [
      " C 드라이브의 볼륨에는 이름이 없습니다.\n",
      " 볼륨 일련 번호: 142A-46C5\n",
      "\n",
      " C:\\Users\\jong\\python_works\\PythonWorkshop 디렉터리\n",
      "\n",
      "2021-09-17  오후 06:20    <DIR>          .\n",
      "2021-09-17  오후 06:20    <DIR>          ..\n",
      "2021-09-17  오후 05:48             1,928 .gitignore\n",
      "2021-09-17  오후 06:15    <DIR>          .ipynb_checkpoints\n",
      "2021-09-17  오후 06:20             1,142 Python-taste.ipynb\n",
      "2021-09-17  오후 05:48                51 README.md\n",
      "2021-09-17  오후 06:20                 5 test.txt\n",
      "2021-09-17  오후 06:17                 5 text.txt\n",
      "2021-09-17  오후 06:14    <DIR>          Untitled Folder\n",
      "2021-09-17  오후 06:14                 0 untitled.txt\n",
      "               6개 파일               3,131 바이트\n",
      "               4개 디렉터리   3,722,743,808 바이트 남음\n"
     ]
    }
   ],
   "source": [
    "# Windows\n",
    "!dir"
   ]
  },
  {
   "cell_type": "code",
   "execution_count": 10,
   "id": "42e2e877",
   "metadata": {},
   "outputs": [
    {
     "name": "stdout",
     "output_type": "stream",
     "text": [
      "hello\n"
     ]
    }
   ],
   "source": [
    "# Windows\n",
    "!type test.txt"
   ]
  },
  {
   "cell_type": "code",
   "execution_count": 96,
   "id": "8a0e487d",
   "metadata": {},
   "outputs": [],
   "source": [
    "import requests"
   ]
  },
  {
   "cell_type": "code",
   "execution_count": 97,
   "id": "891f9271",
   "metadata": {},
   "outputs": [],
   "source": [
    "\n",
    "# Image URL\n",
    "url = \"https://search1.kakaocdn.net/argon/600x0_65_wr/ImZk3b2X1w8\""
   ]
  },
  {
   "cell_type": "code",
   "execution_count": 98,
   "id": "8637672f",
   "metadata": {},
   "outputs": [],
   "source": [
    "# URL image 요청\n",
    "img_response = requests.get(url)"
   ]
  },
  {
   "cell_type": "code",
   "execution_count": 99,
   "id": "cd88cfea",
   "metadata": {},
   "outputs": [
    {
     "name": "stdout",
     "output_type": "stream",
     "text": [
      "요청 성공!\n"
     ]
    }
   ],
   "source": [
    "# 요청에 성공했다면\n",
    "if img_response.status_code == 200:\n",
    "    print(\"요청 성공!\")\n",
    "    with open(\"request_success.jpg\", \"wb\") as fp:\n",
    "        fp.write(img_response.content)"
   ]
  },
  {
   "cell_type": "code",
   "execution_count": 100,
   "id": "112a967b",
   "metadata": {
    "scrolled": false
   },
   "outputs": [
    {
     "name": "stdout",
     "output_type": "stream",
     "text": [
      " C 드라이브의 볼륨에는 이름이 없습니다.\n",
      " 볼륨 일련 번호: 142A-46C5\n",
      "\n",
      " C:\\Users\\jong\\python_works\\PythonWorkshop 디렉터리\n",
      "\n",
      "2021-09-17  오후 07:52    <DIR>          .\n",
      "2021-09-17  오후 07:52    <DIR>          ..\n",
      "2021-09-17  오후 05:48             1,928 .gitignore\n",
      "2021-09-17  오후 06:28    <DIR>          .ipynb_checkpoints\n",
      "2021-09-17  오후 07:52            16,615 python_taste.ipynb\n",
      "2021-09-17  오후 05:48                51 README.md\n",
      "2021-09-17  오후 07:52            27,952 request_success.jpg\n",
      "2021-09-17  오후 06:20                 5 test.txt\n",
      "2021-09-17  오후 07:50           111,922 test_1.jpg\n",
      "2021-09-17  오후 07:50            45,522 test_10.jpg\n",
      "2021-09-17  오후 07:50           120,221 test_11.jpg\n",
      "2021-09-17  오후 07:50            40,087 test_12.jpg\n",
      "2021-09-17  오후 07:50            18,907 test_13.jpg\n",
      "2021-09-17  오후 07:50            33,984 test_14.jpg\n",
      "2021-09-17  오후 07:50           124,227 test_15.jpg\n",
      "2021-09-17  오후 07:50            23,936 test_16.jpg\n",
      "2021-09-17  오후 07:50            76,685 test_17.jpg\n",
      "2021-09-17  오후 07:50            65,999 test_18.jpg\n",
      "2021-09-17  오후 07:50            50,817 test_19.jpg\n",
      "2021-09-17  오후 07:50           239,018 test_2.jpg\n",
      "2021-09-17  오후 07:50            68,284 test_20.jpg\n",
      "2021-09-17  오후 07:50            63,903 test_21.jpg\n",
      "2021-09-17  오후 07:50           139,196 test_22.jpg\n",
      "2021-09-17  오후 07:50            39,414 test_23.jpg\n",
      "2021-09-17  오후 07:50            45,776 test_24.jpg\n",
      "2021-09-17  오후 07:50            26,756 test_25.jpg\n",
      "2021-09-17  오후 07:50            74,986 test_26.jpg\n",
      "2021-09-17  오후 07:50           332,834 test_27.jpg\n",
      "2021-09-17  오후 07:50           347,206 test_28.jpg\n",
      "2021-09-17  오후 07:50            51,582 test_29.jpg\n",
      "2021-09-17  오후 07:50           711,025 test_3.jpg\n",
      "2021-09-17  오후 07:50           136,992 test_30.jpg\n",
      "2021-09-17  오후 07:50            88,215 test_31.jpg\n",
      "2021-09-17  오후 07:50            74,691 test_32.jpg\n",
      "2021-09-17  오후 07:50            17,637 test_33.jpg\n",
      "2021-09-17  오후 07:50           138,142 test_34.jpg\n",
      "2021-09-17  오후 07:50           252,775 test_35.jpg\n",
      "2021-09-17  오후 07:50            26,285 test_36.jpg\n",
      "2021-09-17  오후 07:50             4,205 test_37.jpg\n",
      "2021-09-17  오후 07:50         1,769,978 test_38.jpg\n",
      "2021-09-17  오후 07:50           126,649 test_39.jpg\n",
      "2021-09-17  오후 07:50            20,325 test_4.jpg\n",
      "2021-09-17  오후 07:50            21,767 test_40.jpg\n",
      "2021-09-17  오후 07:50           291,370 test_41.jpg\n",
      "2021-09-17  오후 07:50            50,014 test_42.jpg\n",
      "2021-09-17  오후 07:50           162,916 test_43.jpg\n",
      "2021-09-17  오후 07:50            12,564 test_44.jpg\n",
      "2021-09-17  오후 07:50           127,728 test_45.jpg\n",
      "2021-09-17  오후 07:50            27,034 test_46.jpg\n",
      "2021-09-17  오후 07:50            73,940 test_47.jpg\n",
      "2021-09-17  오후 07:50            37,218 test_48.jpg\n",
      "2021-09-17  오후 07:50           217,815 test_49.jpg\n",
      "2021-09-17  오후 07:50            77,814 test_5.jpg\n",
      "2021-09-17  오후 07:50            71,284 test_50.jpg\n",
      "2021-09-17  오후 07:50           303,031 test_51.jpg\n",
      "2021-09-17  오후 07:50            30,363 test_52.jpg\n",
      "2021-09-17  오후 07:50            40,054 test_53.jpg\n",
      "2021-09-17  오후 07:50            42,423 test_54.jpg\n",
      "2021-09-17  오후 07:50            99,080 test_55.jpg\n",
      "2021-09-17  오후 07:50            38,668 test_56.jpg\n",
      "2021-09-17  오후 07:50            49,130 test_57.jpg\n",
      "2021-09-17  오후 07:50            95,588 test_58.jpg\n",
      "2021-09-17  오후 07:50            65,431 test_59.jpg\n",
      "2021-09-17  오후 07:50           425,370 test_6.jpg\n",
      "2021-09-17  오후 07:50            49,971 test_60.jpg\n",
      "2021-09-17  오후 07:50           160,794 test_61.jpg\n",
      "2021-09-17  오후 07:50           249,838 test_62.jpg\n",
      "2021-09-17  오후 07:50           127,279 test_63.jpg\n",
      "2021-09-17  오후 07:50           126,594 test_64.jpg\n",
      "2021-09-17  오후 07:50            64,219 test_65.jpg\n",
      "2021-09-17  오후 07:50            61,845 test_66.jpg\n",
      "2021-09-17  오후 07:50            58,538 test_67.jpg\n",
      "2021-09-17  오후 07:50            60,581 test_68.jpg\n",
      "2021-09-17  오후 07:50           108,254 test_69.jpg\n",
      "2021-09-17  오후 07:50            91,832 test_7.jpg\n",
      "2021-09-17  오후 07:50            87,532 test_70.jpg\n",
      "2021-09-17  오후 07:50            48,624 test_71.jpg\n",
      "2021-09-17  오후 07:50             9,670 test_72.jpg\n",
      "2021-09-17  오후 07:50           124,541 test_73.jpg\n",
      "2021-09-17  오후 07:50            71,848 test_74.jpg\n",
      "2021-09-17  오후 07:50           133,530 test_75.jpg\n",
      "2021-09-17  오후 07:50            77,470 test_76.jpg\n",
      "2021-09-17  오후 07:50            95,992 test_77.jpg\n",
      "2021-09-17  오후 07:50           151,154 test_78.jpg\n",
      "2021-09-17  오후 07:50            27,503 test_79.jpg\n",
      "2021-09-17  오후 07:50            46,453 test_8.jpg\n",
      "2021-09-17  오후 07:50            49,981 test_80.jpg\n",
      "2021-09-17  오후 07:50           221,545 test_9.jpg\n",
      "2021-09-17  오후 06:17                 5 text.txt\n",
      "2021-09-17  오후 06:14    <DIR>          Untitled Folder\n",
      "2021-09-17  오후 06:14                 0 untitled.txt\n",
      "              87개 파일          10,220,927 바이트\n",
      "               4개 디렉터리   3,523,174,400 바이트 남음\n"
     ]
    }
   ],
   "source": [
    "!dir"
   ]
  },
  {
   "cell_type": "code",
   "execution_count": null,
   "id": "0d2dec68",
   "metadata": {},
   "outputs": [],
   "source": []
  },
  {
   "cell_type": "code",
   "execution_count": null,
   "id": "58362e06",
   "metadata": {},
   "outputs": [],
   "source": []
  },
  {
   "cell_type": "code",
   "execution_count": 101,
   "id": "0433c20a",
   "metadata": {},
   "outputs": [],
   "source": [
    "\n",
    "# Kakao Daum 검색 API 활용하기\n",
    "import requests\n",
    "import json"
   ]
  },
  {
   "cell_type": "code",
   "execution_count": 102,
   "id": "50548aba",
   "metadata": {},
   "outputs": [],
   "source": [
    "# Image 검색 URL\n",
    "url = \"https://dapi.kakao.com/v2/search/image\""
   ]
  },
  {
   "cell_type": "code",
   "execution_count": 103,
   "id": "6a64bc8b",
   "metadata": {},
   "outputs": [],
   "source": [
    "# 요청 헤더\n",
    "headers = {\n",
    "    \"Authorization\": \"KakaoAK 225d4e33a93036f75aac7003d0e2c0a9\"\n",
    "    # Authorization : KakaoAK REST API KEY\n",
    "}"
   ]
  },
  {
   "cell_type": "code",
   "execution_count": 104,
   "id": "0eaf83b7",
   "metadata": {},
   "outputs": [],
   "source": [
    "# 찾고자 하는 데이터\n",
    "data = {\n",
    "    \"query\" : \"코로나\"\n",
    "}"
   ]
  },
  {
   "cell_type": "code",
   "execution_count": 105,
   "id": "1a6fba68",
   "metadata": {},
   "outputs": [],
   "source": [
    "# Image 검색 요청\n",
    "response = requests.post(url, headers=headers, data=data)"
   ]
  },
  {
   "cell_type": "code",
   "execution_count": 106,
   "id": "70a24b8c",
   "metadata": {
    "scrolled": true
   },
   "outputs": [
    {
     "name": "stdout",
     "output_type": "stream",
     "text": [
      "200\n"
     ]
    }
   ],
   "source": [
    "\n",
    "print(response.status_code)"
   ]
  },
  {
   "cell_type": "code",
   "execution_count": 107,
   "id": "48cd52e5",
   "metadata": {},
   "outputs": [],
   "source": [
    "# 검색해온 모든 이미지를 저장한다.\n",
    "def save_image(image_url, file_name):\n",
    "    img_response = requests.get(image_url)\n",
    "    \n",
    "    # 요청 성공!\n",
    "    if img_response.status_code == 200:\n",
    "        # 저장\n",
    "        with open(file_name, \"wb\") as fp:\n",
    "            fp.write(img_response.content)"
   ]
  },
  {
   "cell_type": "code",
   "execution_count": 108,
   "id": "402bfd29",
   "metadata": {},
   "outputs": [
    {
     "name": "stdout",
     "output_type": "stream",
     "text": [
      "[0th] image_url =  http://t1.daumcdn.net/cfile/tistory/99B3F43E5FB5E2A615\n",
      "[1th] image_url =  https://k.kakaocdn.net/dn/c65toF/btq26FzU2Db/LdkJdTDSLSXeTZCGvFBf61/img.jpg\n",
      "[2th] image_url =  https://k.kakaocdn.net/dn/9HYpC/btq3bVnQfAw/phUUh6QJmaWzSfTsdl49WK/img.jpg\n",
      "[3th] image_url =  https://k.kakaocdn.net/dn/Buv5E/btrcVjAj89Y/smwq92oCBFKvuK67ajbJ40/img.jpg\n",
      "[4th] image_url =  https://k.kakaocdn.net/dn/wEolU/btqRAkTIHev/BJe3TsAQhdn2qdcOys5kH0/img.png\n",
      "[5th] image_url =  https://k.kakaocdn.net/dn/bw8SDQ/btq4MSeaOzd/KKLACPPxRdzbWHRMSWVFaK/img.png\n",
      "[6th] image_url =  https://k.kakaocdn.net/dn/cTGC3g/btq4RTXaDhf/xpHwkAku34L6nPTjNnzQoK/img.jpg\n",
      "[7th] image_url =  http://t1.daumcdn.net/cfile/tistory/9977D54C5E4F6EA013\n",
      "[8th] image_url =  https://k.kakaocdn.net/dn/kyipn/btq3blN5LAf/NHHTkWKCaXHY4atcUvLVf1/img.jpg\n",
      "[9th] image_url =  https://slownews.kr/wp-content/uploads/2020/05/covid-5084896_640.jpg\n",
      "[10th] image_url =  https://k.kakaocdn.net/dn/M66hV/btreELabC5l/EROMvVex0YiT9StqPQG2L1/img.jpg\n",
      "[11th] image_url =  https://k.kakaocdn.net/dn/qGe9f/btrax7Cew4B/QTgFvUSRQrnpNy62Ijqo6k/img.jpg\n",
      "[12th] image_url =  https://k.kakaocdn.net/dn/IwCi4/btqOMpEECgW/xRl7pPbHaYYIoX1Yq1nru1/img.jpg\n",
      "[13th] image_url =  http://t1.daumcdn.net/cfile/tistory/998532345E65A7BF02\n",
      "[14th] image_url =  http://t1.daumcdn.net/cfile/tistory/99BED5435FC9A43910\n",
      "[15th] image_url =  https://k.kakaocdn.net/dn/VPFfx/btqOS9URemF/ITDLTCWwK88ikH7eSBgKsk/img.jpg\n",
      "[16th] image_url =  https://k.kakaocdn.net/dn/bp9v5q/btq7onoLOXm/8LROMowX0ZARITjnlOVbs0/img.png\n",
      "[17th] image_url =  https://k.kakaocdn.net/dn/KrcDq/btq3q6dNfFy/ER3grVwB0BwguiIsKRzh70/img.jpg\n",
      "[18th] image_url =  http://t1.daumcdn.net/cfile/tistory/991A9D3F5E65A7BF3C\n",
      "[19th] image_url =  http://t1.daumcdn.net/news/201704/21/tvdaily/20170421195003065fjsf.jpg\n",
      "[20th] image_url =  http://t1.daumcdn.net/cfile/tistory/99AB22395FE0FD9702\n",
      "[21th] image_url =  http://t1.daumcdn.net/cfile/tistory/992984375E52831838\n",
      "[22th] image_url =  http://t1.daumcdn.net/cfile/tistory/99166B4A5F85420829\n",
      "[23th] image_url =  http://www.viva100.com/mnt/images/file/2020y/02m/26d/2020022501001987800090091.jpg\n",
      "[24th] image_url =  http://t1.daumcdn.net/cfile/tistory/9996653E5EE735D30D\n",
      "[25th] image_url =  http://t1.daumcdn.net/cfile/tistory/99BB22385E7C08E233\n",
      "[26th] image_url =  https://t1.daumcdn.net/news/202109/16/moneytoday/20210916134623227gldt.jpg\n",
      "[27th] image_url =  http://t1.daumcdn.net/cfile/tistory/991A2E3C5F79464C22\n",
      "[28th] image_url =  http://t1.daumcdn.net/cfile/tistory/99687A4E5EE735D312\n",
      "[29th] image_url =  https://k.kakaocdn.net/dn/cuP5PB/btrdeYJAqFJ/NwgZOSz3D9Ko2PVKpreyjk/img.jpg\n",
      "[30th] image_url =  https://t1.daumcdn.net/news/202012/23/Hidoc/20201223151115054xziv.jpg\n",
      "[31th] image_url =  https://k.kakaocdn.net/dn/c2Ausm/btq4dvQo4Pm/9GPp2DrdjjhBAozcLSVqwK/img.jpg\n",
      "[32th] image_url =  http://t1.daumcdn.net/cfile/tistory/99668B445E8C4FA409\n",
      "[33th] image_url =  http://t1.daumcdn.net/cfile/tistory/99F3723A5E545A811E\n",
      "[34th] image_url =  https://t1.daumcdn.net/news/202010/12/inews24/20201012095545045vbjr.jpg\n",
      "[35th] image_url =  http://postfiles10.naver.net/MjAyMDEyMDJfMjMx/MDAxNjA2ODc3OTM2Nzk0.RmLjufmdgCEpnLF55V8QnsgGW620DNFYd6YTZMdu7pog.7nDExAAqCFcCJhA-_5OgcVKeNwjS3BUFSxBH2XY05uEg.JPEG.codelove/%EC%BD%94%EB%A1%9C%EB%82%98_%EB%B8%94%EB%A3%A8.jpg?type=w773\n",
      "[36th] image_url =  https://k.kakaocdn.net/dn/dkqT6X/btrbQ9eDMZh/nbke8zeqkcKIh1jK9XqQk0/img.jpg\n",
      "[37th] image_url =  https://k.kakaocdn.net/dn/bI3kAO/btrbJIviU3o/BCsyFQ2vaKCCCJPwjG1Evk/img.jpg\n",
      "[38th] image_url =  https://k.kakaocdn.net/dn/WToFH/btreDUkUhfc/2Ms0JgNCs9WP655jROQkyK/img.jpg\n",
      "[39th] image_url =  https://t1.daumcdn.net/thumb/R659x0/?fname=http%3A%2F%2Ft1.daumcdn.net%2Fencyclop%2Fm904%2FTSyXEHvOs2VtISt8Lfg9i17FCfR8gIUcBCuJPC7x%3Ft%3D1498698105000\n",
      "[40th] image_url =  https://k.kakaocdn.net/dn/bsQqjW/btq3zNQUSL3/yDW1dDFVAhwbSMmvuWOxi0/img.jpg\n",
      "[41th] image_url =  http://postfiles2.naver.net/MjAyMDAzMjFfNDEg/MDAxNTg0NzgyNDc4OTU2.1Ta8TIcUyi9QooPgM3M3h7fH5wKn6gPuMOzFrcdJonAg.Y-p28NMTC6-TRrh0uX42rJ7-vaIEEA8EBJxaToYxXBkg.JPEG.diddngur9927/%EC%BD%94%EB%A1%9C%EB%82%98.jpg?type=w580\n",
      "[42th] image_url =  https://k.kakaocdn.net/dn/4NrMo/btrbKG4Paum/gvqza587dwh3HNpbBH8jOk/img.jpg\n",
      "[43th] image_url =  https://file1.bobaedream.co.kr/bbs/freeb/2021/09/01/17/GgkJ1630486198_6621853.jpg\n",
      "[44th] image_url =  https://k.kakaocdn.net/dn/IxRfY/btrcNJ0UVF4/L9nA9DKid9Ttvcub1xkua1/img.jpg\n",
      "[45th] image_url =  https://k.kakaocdn.net/dn/bkuqVO/btrcgOAuBYQ/I1H3ZPkx1salQ6Gr8hpOGk/img.jpg\n",
      "[46th] image_url =  http://postfiles7.naver.net/MjAyMDEyMjNfMTA1/MDAxNjA4NzI5NTc5NjU4.MrLO_gjomLDgN3NzfPAGwFvrfcKnuWR1bzAY6KAKWT0g.8AWi6H4th61oCVRtj4XGttt9-hc_EhAdjtGfxh_hvNMg.JPEG.canaria2225/%EC%BD%94%EB%A1%9C%EB%82%98_(3).jpg?type=w966\n",
      "[47th] image_url =  https://k.kakaocdn.net/dn/dKMT1x/btqRt6hBdA0/eaTak7nEjiUKWXhYT0D05k/img.png\n",
      "[48th] image_url =  https://t1.daumcdn.net/news/202007/30/inews24/20200730092250277ezcr.jpg\n",
      "[49th] image_url =  http://postfiles6.naver.net/MjAyMDAxMzBfMjg5/MDAxNTgwMzcwODUyMzU4.lWFGos20yb1lwvuXPy4gRVNmLU2aXZV1Y3TxWLJMdzkg.v40x4Jj3WkQZ-wEGOPoxpTb-0YLLUf3cAVKgB2Xpyckg.JPEG.ggig0522/%EC%BD%94%EB%A1%9C%EB%82%98.jpg?type=w773\n",
      "[50th] image_url =  http://t1.daumcdn.net/cfile/tistory/99EBAB445E60FCDC2A\n",
      "[51th] image_url =  http://t1.daumcdn.net/cfile/tistory/99890D4C5EE735D308\n",
      "[52th] image_url =  http://t1.daumcdn.net/cfile/tistory/99926D3D5E4F7EDF03\n",
      "[53th] image_url =  http://t1.daumcdn.net/cfile/tistory/994733355FB4C61D2D\n",
      "[54th] image_url =  http://t1.daumcdn.net/cfile/tistory/99B2EF3D5E4F7EE002\n",
      "[55th] image_url =  http://t1.daumcdn.net/cfile/tistory/992197445E5CA2C504\n",
      "[56th] image_url =  http://t1.daumcdn.net/cfile/tistory/993ED94B5FC0AE7C2B\n",
      "[57th] image_url =  http://www.viva100.com/mnt/images/file/2020y/02m/13d/2020021301000972600043722.jpg\n",
      "[58th] image_url =  https://k.kakaocdn.net/dn/bFgL2j/btqH2dpbIhe/MQO9YnfjhMg0kkZEMbUOmk/img.jpg\n",
      "[59th] image_url =  http://t1.daumcdn.net/cfile/tistory/9902613A5FC4AB4E30\n",
      "[60th] image_url =  http://postfiles5.naver.net/MjAyMDAzMjJfMjc2/MDAxNTg0ODc5ODE3NTU4.oVP6hxlpZb_FZIRnIrM1dNB9o4VJecCK2yWnooBDOzUg.SAy3bTpFW2Cl4ym2MNV_glfecVXUbYT82lMeVENO0jYg.JPEG.nanuri8182/%EC%BD%94%EB%A1%9C%EB%82%98.jpg?type=w966\n",
      "[61th] image_url =  https://k.kakaocdn.net/dn/btvPmX/btrdOwfi0PV/l9etATa7Hx2OGTqFSlIkdK/img.jpg\n",
      "[62th] image_url =  http://t1.daumcdn.net/cfile/tistory/99D021475E992C7324\n",
      "[63th] image_url =  http://t1.daumcdn.net/cfile/tistory/99184C355E2ECBA026\n",
      "[64th] image_url =  http://t1.daumcdn.net/cfile/tistory/993CD0445FC4AB4E2C\n",
      "[65th] image_url =  http://t1.daumcdn.net/cfile/tistory/993FC23C5E53B8EC30\n",
      "[66th] image_url =  https://k.kakaocdn.net/dn/egSPNE/btqOP3U9XXs/Zmx9VzLZfzjY0C50737c0k/img.jpg\n",
      "[67th] image_url =  https://k.kakaocdn.net/dn/YPpFO/btrbq3zr0oa/JTskZ17cxVI78utuH2rsS0/img.jpg\n",
      "[68th] image_url =  https://k.kakaocdn.net/dn/MVh4T/btrcVke1ccI/4koRVQzizAHiYu4vKeiKa1/img.jpg\n",
      "[69th] image_url =  http://t1.daumcdn.net/cfile/tistory/998A923F5E54E06540\n",
      "[70th] image_url =  http://postfiles8.naver.net/MjAyMDAyMDJfMTIw/MDAxNTgwNjIyMTQ3MTc5.1Z6KCaT2Iw8VGdOInJGPmnpcgPYFTBSpY9xAyNMOYigg.Nu7BoXIThl8qPBoddWdCSuctUib6bEIcFGISZbGsp68g.JPEG.opt1022/%EC%BD%94%EB%A1%9C%EB%82%98.jpg?type=w773\n",
      "[71th] image_url =  http://postfiles12.naver.net/MjAyMDA1MTNfMjk4/MDAxNTg5MzQxNzkwNzg5.TYVBZffdvQr9RHuEf8jybjEEOe-LUzNd32rOcfzFlmQg.T3n8yryAceVanFHyDCrpqfQgwaKIb3yLlU3t2HC5a24g.JPEG.mymetanight/%EC%BD%94%EB%A1%9C%EB%82%98.jpg?type=w580\n",
      "[72th] image_url =  http://postfiles4.naver.net/MjAyMDA5MDlfMjU1/MDAxNTk5NjMxNzA4MTUy.VmlBQ-Ir0J7gytq5ikxxuARcDxUe2o9b6fex3prBKb4g.bUKsRWbW1UHugBMIDF8iDJiEKsTpwQqwJcLi3CVyVtkg.JPEG.kmdlij/%EC%BD%94%EB%A1%9C%EB%82%98.jpg?type=w966\n",
      "[73th] image_url =  http://postfiles6.naver.net/MjAyMDA0MDlfMTI5/MDAxNTg2NDA1ODQxNjQz.UF5Ad1ENxe1ht9CAtk5LZOjcePPosiIJufhwvL6ZIEAg.w3iKLS5fJNbfgO0Zs8LNIUWajv4oI0iFpE4HH-DSfjEg.JPEG.studioa1117/%EC%BD%94%EB%A1%9C%EB%82%98.jpg?type=w966\n",
      "[74th] image_url =  http://www.viva100.com/mnt/images/file/2020y/02m/19d/2020021901001539400069261.jpg\n",
      "[75th] image_url =  http://t1.daumcdn.net/cfile/tistory/9984C2435E9855F631\n",
      "[76th] image_url =  https://src.hidoc.co.kr/image/lib/2021/3/8/1615178710317_0.jpg\n",
      "[77th] image_url =  http://t1.daumcdn.net/cfile/tistory/99A525395E2ECB9F20\n",
      "[78th] image_url =  http://t1.daumcdn.net/cfile/tistory/99D71E425E94828C04\n",
      "[79th] image_url =  http://t1.daumcdn.net/cfile/tistory/99C1F7355E95CB1B06\n"
     ]
    }
   ],
   "source": [
    "if response.status_code != 200:\n",
    "    print(\"error 발생!\")\n",
    "else:\n",
    "    count = 0\n",
    "    for image_info in response.json()['documents']:\n",
    "        print(f\"[{count}th] image_url = \", image_info['image_url'])\n",
    "        \n",
    "        # 저장될 이미지 파일명\n",
    "        count = count + 1\n",
    "        file_name = \"test_%d.jpg\" %(count)\n",
    "        \n",
    "        # 이미지 저장\n",
    "        save_image(image_info['image_url'], file_name)"
   ]
  },
  {
   "cell_type": "code",
   "execution_count": null,
   "id": "41cb9b58",
   "metadata": {},
   "outputs": [],
   "source": []
  },
  {
   "cell_type": "code",
   "execution_count": null,
   "id": "54ddd8c2",
   "metadata": {},
   "outputs": [],
   "source": []
  }
 ],
 "metadata": {
  "kernelspec": {
   "display_name": "Python 3",
   "language": "python",
   "name": "python3"
  },
  "language_info": {
   "codemirror_mode": {
    "name": "ipython",
    "version": 3
   },
   "file_extension": ".py",
   "mimetype": "text/x-python",
   "name": "python",
   "nbconvert_exporter": "python",
   "pygments_lexer": "ipython3",
   "version": "3.8.8"
  }
 },
 "nbformat": 4,
 "nbformat_minor": 5
}
