{
 "cells": [
  {
   "cell_type": "code",
   "execution_count": 1,
   "id": "b4885c88",
   "metadata": {},
   "outputs": [],
   "source": [
    "#파이썬에서 주석은 '#' 으로 작성 합니다."
   ]
  },
  {
   "cell_type": "code",
   "execution_count": 6,
   "id": "e63afcea",
   "metadata": {},
   "outputs": [],
   "source": [
    "### File Write\n",
    "data = \"hello\"\n",
    "with open(\"test.txt\", \"w\") as fp:\n",
    "    fp.write(data)"
   ]
  },
  {
   "cell_type": "code",
   "execution_count": 7,
   "id": "a6f5af43",
   "metadata": {},
   "outputs": [
    {
     "name": "stdout",
     "output_type": "stream",
     "text": [
      "파이썬 쉽네?\n",
      "hello\n"
     ]
    }
   ],
   "source": [
    "### File Write\n",
    "\n",
    "with open(\"test.txt\", \"r\") as fp:\n",
    "    print(\"파이썬 쉽네?\")\n",
    "    print(fp.read())\n",
    "    "
   ]
  },
  {
   "cell_type": "code",
   "execution_count": 8,
   "id": "c76bb650",
   "metadata": {},
   "outputs": [
    {
     "name": "stdout",
     "output_type": "stream",
     "text": [
      " C 드라이브의 볼륨에는 이름이 없습니다.\n",
      " 볼륨 일련 번호: 142A-46C5\n",
      "\n",
      " C:\\Users\\jong\\python_works\\PythonWorkshop 디렉터리\n",
      "\n",
      "2021-09-17  오후 06:20    <DIR>          .\n",
      "2021-09-17  오후 06:20    <DIR>          ..\n",
      "2021-09-17  오후 05:48             1,928 .gitignore\n",
      "2021-09-17  오후 06:15    <DIR>          .ipynb_checkpoints\n",
      "2021-09-17  오후 06:20             1,142 Python-taste.ipynb\n",
      "2021-09-17  오후 05:48                51 README.md\n",
      "2021-09-17  오후 06:20                 5 test.txt\n",
      "2021-09-17  오후 06:17                 5 text.txt\n",
      "2021-09-17  오후 06:14    <DIR>          Untitled Folder\n",
      "2021-09-17  오후 06:14                 0 untitled.txt\n",
      "               6개 파일               3,131 바이트\n",
      "               4개 디렉터리   3,722,743,808 바이트 남음\n"
     ]
    }
   ],
   "source": [
    "# Windows\n",
    "!dir"
   ]
  },
  {
   "cell_type": "code",
   "execution_count": 10,
   "id": "04282721",
   "metadata": {},
   "outputs": [
    {
     "name": "stdout",
     "output_type": "stream",
     "text": [
      "hello\n"
     ]
    }
   ],
   "source": [
    "# Windows\n",
    "!type test.txt"
   ]
  },
  {
   "cell_type": "code",
   "execution_count": null,
   "id": "22e622d7",
   "metadata": {},
   "outputs": [],
   "source": []
  }
 ],
 "metadata": {
  "kernelspec": {
   "display_name": "Python 3",
   "language": "python",
   "name": "python3"
  },
  "language_info": {
   "codemirror_mode": {
    "name": "ipython",
    "version": 3
   },
   "file_extension": ".py",
   "mimetype": "text/x-python",
   "name": "python",
   "nbconvert_exporter": "python",
   "pygments_lexer": "ipython3",
   "version": "3.8.8"
  }
 },
 "nbformat": 4,
 "nbformat_minor": 5
}
